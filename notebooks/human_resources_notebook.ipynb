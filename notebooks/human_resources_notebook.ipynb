{
 "cells": [
  {
   "cell_type": "code",
   "execution_count": 1,
   "metadata": {},
   "outputs": [],
   "source": [
    "import pandas as pd\n",
    "import tqdm\n",
    "\n",
    "import re\n",
    "import requests\n",
    "from bs4 import BeautifulSoup\n",
    "\n",
    "import hashlib\n",
    "import datetime"
   ]
  },
  {
   "cell_type": "code",
   "execution_count": 2,
   "metadata": {},
   "outputs": [],
   "source": [
    "base_url = 'http://www.curitiba.pr.gov.br/dadosabertos/consulta'"
   ]
  },
  {
   "cell_type": "code",
   "execution_count": 3,
   "metadata": {},
   "outputs": [],
   "source": [
    "params = {\"grupo\":\"3\"}"
   ]
  },
  {
   "cell_type": "code",
   "execution_count": 4,
   "metadata": {},
   "outputs": [],
   "source": [
    "r = requests.get(base_url, params=params)"
   ]
  },
  {
   "cell_type": "code",
   "execution_count": 5,
   "metadata": {},
   "outputs": [],
   "source": [
    "page = BeautifulSoup(r.text, 'html.parser')"
   ]
  },
  {
   "cell_type": "code",
   "execution_count": 6,
   "metadata": {},
   "outputs": [],
   "source": [
    "__EVENTVALIDATION = page.find(\"input\", {'name': '__EVENTVALIDATION'}).get('value')"
   ]
  },
  {
   "cell_type": "code",
   "execution_count": 7,
   "metadata": {},
   "outputs": [
    {
     "data": {
      "text/plain": [
       "'/wEdAAxVR8e4EOHzCYXnnzUZ7/Id4mKL5o1QRo/FpCKPmYsWJJ6M545mi+eVxYOsufjJuPs5znhzSWYfXU4ugll/AJGuS7DlCF7QoIFOF8dSWE2wXzkiLQS8NWTPNZDV80Z3AzzphndoyDFnIVED7A3KQw9cs48DT8q4XVH83r8Yw95EbJ8/8wAqn890Z+wGGuGKtYqNvjaF5GeBQ6wPsZcNPGG+vCOATgFUUjl7PbiZupqgZarqqZvleoeig3SW/qIZQc3wuPs3mdP64lfOFtVWuTlBMmAEzA=='"
      ]
     },
     "execution_count": 7,
     "metadata": {},
     "output_type": "execute_result"
    }
   ],
   "source": [
    "__EVENTVALIDATION"
   ]
  },
  {
   "cell_type": "code",
   "execution_count": 8,
   "metadata": {},
   "outputs": [],
   "source": [
    "__VIEWSTATE = page.find(\"input\", {'name': '__VIEWSTATE'}).get('value')"
   ]
  },
  {
   "cell_type": "code",
   "execution_count": 9,
   "metadata": {},
   "outputs": [
    {
     "data": {
      "text/plain": [
       "'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'"
      ]
     },
     "execution_count": 9,
     "metadata": {},
     "output_type": "execute_result"
    }
   ],
   "source": [
    "__VIEWSTATE"
   ]
  },
  {
   "cell_type": "code",
   "execution_count": 10,
   "metadata": {},
   "outputs": [],
   "source": [
    "pagination = page.find_all(class_='paginacao2')\n",
    "pagination = list(pagination[0].text.replace('\\n', ''))"
   ]
  },
  {
   "cell_type": "code",
   "execution_count": 11,
   "metadata": {},
   "outputs": [],
   "source": [
    "pages = \"\"\n",
    "for page in pagination:\n",
    "    data = {\n",
    "        \"__EVENTTARGET\": f\"ctl00$cphMasterPortal$ucPaginador${page}_pg{page}\",\n",
    "        \"__EVENTVALIDATION\": __EVENTVALIDATION,\n",
    "        \"__VIEWSTATE\": __VIEWSTATE\n",
    "    }\n",
    "    \n",
    "    r = requests.request(\"POST\", base_url, params=params, data=data)\n",
    "    pages = pages + r.text"
   ]
  },
  {
   "cell_type": "code",
   "execution_count": 12,
   "metadata": {},
   "outputs": [],
   "source": [
    "md5 = lambda s : hashlib.md5(s.encode('utf-8')).hexdigest()"
   ]
  },
  {
   "cell_type": "code",
   "execution_count": 13,
   "metadata": {},
   "outputs": [
    {
     "data": {
      "text/plain": [
       "'098f6bcd4621d373cade4e832627b4f6'"
      ]
     },
     "execution_count": 13,
     "metadata": {},
     "output_type": "execute_result"
    }
   ],
   "source": [
    "md5('test')"
   ]
  },
  {
   "cell_type": "code",
   "execution_count": 14,
   "metadata": {},
   "outputs": [],
   "source": [
    "a_tags = BeautifulSoup(pages, 'html.parser').find_all(id='linkArquivo')"
   ]
  },
  {
   "cell_type": "code",
   "execution_count": 15,
   "metadata": {},
   "outputs": [
    {
     "name": "stdout",
     "output_type": "stream",
     "text": [
      "1f4845ca75ae633e77bf2742390d64a6\n"
     ]
    }
   ],
   "source": [
    "print(md5(a_tags[0].text))"
   ]
  },
  {
   "cell_type": "code",
   "execution_count": 16,
   "metadata": {},
   "outputs": [],
   "source": [
    "date_regex = re.compile('\\d{4}-\\d{2}-\\d{2}')"
   ]
  },
  {
   "cell_type": "code",
   "execution_count": 17,
   "metadata": {},
   "outputs": [
    {
     "data": {
      "text/plain": [
       "datetime.date(2018, 10, 10)"
      ]
     },
     "execution_count": 17,
     "metadata": {},
     "output_type": "execute_result"
    }
   ],
   "source": [
    "date_string = date_regex.search('//multimidia.curitiba.pr.gov.br/dadosabertos/SESPAMedicoUnidadesMunicipaisDeSaude/2018-10-10_Sistema_E-Saude_Medicos_-_Base_de_Dados.csv').group()\n",
    "date = datetime.date(*map(int, date_string.split('-')))\n",
    "date\n"
   ]
  },
  {
   "cell_type": "code",
   "execution_count": 18,
   "metadata": {},
   "outputs": [
    {
     "name": "stderr",
     "output_type": "stream",
     "text": [
      "100%|██████████| 4/4 [00:00<00:00, 8661.44it/s]\n"
     ]
    }
   ],
   "source": [
    "databases = []\n",
    "for a_tag in tqdm.tqdm(a_tags):\n",
    "    database_link = a_tag.get('href')[2:]\n",
    "    \n",
    "    if database_link[-4:] == '.csv':\n",
    "        database_id = md5(a_tag.text)\n",
    "        database_title = a_tag.text\n",
    "\n",
    "        database_date_string = date_regex.search(database_link).group()\n",
    "        database_date = datetime.date(*map(int, database_date_string.split('-')))\n",
    "\n",
    "        database = {\n",
    "            'database_id': database_id,\n",
    "            'database_title': database_title,\n",
    "            'database_link': database_link,\n",
    "            'database_date': database_date\n",
    "        }\n",
    "        \n",
    "        databases.append(database)"
   ]
  },
  {
   "cell_type": "code",
   "execution_count": 19,
   "metadata": {},
   "outputs": [
    {
     "data": {
      "text/plain": [
       "[{'database_id': '1f4845ca75ae633e77bf2742390d64a6',\n",
       "  'database_title': 'Servidores Cargos Encargos - Base de Dados',\n",
       "  'database_link': 'multimidia.curitiba.pr.gov.br/dadosabertos/ServidoresCargosEncargos/2018-10-05_Servidores_Cargos_Encargos_-_Base_de_Dados.csv',\n",
       "  'database_date': datetime.date(2018, 10, 5)}]"
      ]
     },
     "execution_count": 19,
     "metadata": {},
     "output_type": "execute_result"
    }
   ],
   "source": [
    "databases"
   ]
  },
  {
   "cell_type": "code",
   "execution_count": 20,
   "metadata": {},
   "outputs": [
    {
     "name": "stderr",
     "output_type": "stream",
     "text": [
      "/usr/local/lib/python3.7/site-packages/IPython/core/interactiveshell.py:2785: DtypeWarning: Columns (3,4,6,7,8,11) have mixed types. Specify dtype option on import or set low_memory=False.\n",
      "  interactivity=interactivity, compiler=compiler, result=result)\n"
     ]
    }
   ],
   "source": [
    "test = pd.read_csv('http://multimidia.curitiba.pr.gov.br/dadosabertos/ServidoresCargosEncargos/2018-10-05_Servidores_Cargos_Encargos_-_Base_de_Dados.csv', encoding=\"ISO-8859-1\", delimiter=';')"
   ]
  },
  {
   "cell_type": "code",
   "execution_count": 21,
   "metadata": {},
   "outputs": [
    {
     "data": {
      "text/html": [
       "<div>\n",
       "<style scoped>\n",
       "    .dataframe tbody tr th:only-of-type {\n",
       "        vertical-align: middle;\n",
       "    }\n",
       "\n",
       "    .dataframe tbody tr th {\n",
       "        vertical-align: top;\n",
       "    }\n",
       "\n",
       "    .dataframe thead th {\n",
       "        text-align: right;\n",
       "    }\n",
       "</style>\n",
       "<table border=\"1\" class=\"dataframe\">\n",
       "  <thead>\n",
       "    <tr style=\"text-align: right;\">\n",
       "      <th></th>\n",
       "      <th>NOME</th>\n",
       "      <th>CARGO</th>\n",
       "      <th>CARGO_COMISSAO</th>\n",
       "      <th>MES</th>\n",
       "      <th>ANO</th>\n",
       "      <th>LOTACAO</th>\n",
       "      <th>TOTAL_DESCONTOS</th>\n",
       "      <th>TOTAL_LIQUIDO</th>\n",
       "      <th>TOT_VANTAGENS</th>\n",
       "      <th>MOTIVO</th>\n",
       "      <th>DESCRICAO_EVENTO</th>\n",
       "      <th>VALOR_EVENTO</th>\n",
       "      <th>TIPO_EVENTO</th>\n",
       "    </tr>\n",
       "  </thead>\n",
       "  <tbody>\n",
       "    <tr>\n",
       "      <th>0</th>\n",
       "      <td>----</td>\n",
       "      <td>-----</td>\n",
       "      <td>--------------</td>\n",
       "      <td>---</td>\n",
       "      <td>---</td>\n",
       "      <td>-------</td>\n",
       "      <td>---------------</td>\n",
       "      <td>-------------</td>\n",
       "      <td>-------------</td>\n",
       "      <td>------</td>\n",
       "      <td>----------------</td>\n",
       "      <td>------------</td>\n",
       "      <td>-----------</td>\n",
       "    </tr>\n",
       "    <tr>\n",
       "      <th>1</th>\n",
       "      <td>ABDO TARBINE</td>\n",
       "      <td>GESTOR PUBLICO MUNICIPAL I</td>\n",
       "      <td>CARGO EM COMISSÃO</td>\n",
       "      <td>9</td>\n",
       "      <td>2018</td>\n",
       "      <td>SECRETARIA DO GOVERNO MUNICIPAL</td>\n",
       "      <td>2378.81</td>\n",
       "      <td>10897.90</td>\n",
       "      <td>13276.71</td>\n",
       "      <td></td>\n",
       "      <td>PORTAL TRANSPARÊNCIA - PREVIDÊNCIA PÚBLICA</td>\n",
       "      <td>621.03</td>\n",
       "      <td>DESCONTO</td>\n",
       "    </tr>\n",
       "    <tr>\n",
       "      <th>2</th>\n",
       "      <td>ABDO TARBINE</td>\n",
       "      <td>GESTOR PUBLICO MUNICIPAL I</td>\n",
       "      <td>CARGO EM COMISSÃO</td>\n",
       "      <td>9</td>\n",
       "      <td>2018</td>\n",
       "      <td>SECRETARIA DO GOVERNO MUNICIPAL</td>\n",
       "      <td>2378.81</td>\n",
       "      <td>10897.90</td>\n",
       "      <td>13276.71</td>\n",
       "      <td></td>\n",
       "      <td>PORTAL TRANSPARÊNCIA - IRRF</td>\n",
       "      <td>1757.78</td>\n",
       "      <td>DESCONTO</td>\n",
       "    </tr>\n",
       "    <tr>\n",
       "      <th>3</th>\n",
       "      <td>ABDO TARBINE</td>\n",
       "      <td>GESTOR PUBLICO MUNICIPAL I</td>\n",
       "      <td>CARGO EM COMISSÃO</td>\n",
       "      <td>9</td>\n",
       "      <td>2018</td>\n",
       "      <td>SECRETARIA DO GOVERNO MUNICIPAL</td>\n",
       "      <td>2378.81</td>\n",
       "      <td>10897.90</td>\n",
       "      <td>13276.71</td>\n",
       "      <td></td>\n",
       "      <td>PORTAL TRANSPARÊNCIA - SUBSÍDIO, FG OU CARGO E...</td>\n",
       "      <td>9957.78</td>\n",
       "      <td>VANTAGEM</td>\n",
       "    </tr>\n",
       "    <tr>\n",
       "      <th>4</th>\n",
       "      <td>ABDO TARBINE</td>\n",
       "      <td>GESTOR PUBLICO MUNICIPAL I</td>\n",
       "      <td>CARGO EM COMISSÃO</td>\n",
       "      <td>9</td>\n",
       "      <td>2018</td>\n",
       "      <td>SECRETARIA DO GOVERNO MUNICIPAL</td>\n",
       "      <td>2378.81</td>\n",
       "      <td>10897.90</td>\n",
       "      <td>13276.71</td>\n",
       "      <td></td>\n",
       "      <td>PORTAL TRANSPARÊNCIA - VANTAGENS EVENTUAIS</td>\n",
       "      <td>3318.93</td>\n",
       "      <td>VANTAGEM</td>\n",
       "    </tr>\n",
       "  </tbody>\n",
       "</table>\n",
       "</div>"
      ],
      "text/plain": [
       "           NOME                       CARGO     CARGO_COMISSAO  MES   ANO  \\\n",
       "0          ----                       -----     --------------  ---   ---   \n",
       "1  ABDO TARBINE  GESTOR PUBLICO MUNICIPAL I  CARGO EM COMISSÃO    9  2018   \n",
       "2  ABDO TARBINE  GESTOR PUBLICO MUNICIPAL I  CARGO EM COMISSÃO    9  2018   \n",
       "3  ABDO TARBINE  GESTOR PUBLICO MUNICIPAL I  CARGO EM COMISSÃO    9  2018   \n",
       "4  ABDO TARBINE  GESTOR PUBLICO MUNICIPAL I  CARGO EM COMISSÃO    9  2018   \n",
       "\n",
       "                           LOTACAO  TOTAL_DESCONTOS  TOTAL_LIQUIDO  \\\n",
       "0                          -------  ---------------  -------------   \n",
       "1  SECRETARIA DO GOVERNO MUNICIPAL          2378.81       10897.90   \n",
       "2  SECRETARIA DO GOVERNO MUNICIPAL          2378.81       10897.90   \n",
       "3  SECRETARIA DO GOVERNO MUNICIPAL          2378.81       10897.90   \n",
       "4  SECRETARIA DO GOVERNO MUNICIPAL          2378.81       10897.90   \n",
       "\n",
       "   TOT_VANTAGENS  MOTIVO                                   DESCRICAO_EVENTO  \\\n",
       "0  -------------  ------                                   ----------------   \n",
       "1       13276.71                 PORTAL TRANSPARÊNCIA - PREVIDÊNCIA PÚBLICA   \n",
       "2       13276.71                                PORTAL TRANSPARÊNCIA - IRRF   \n",
       "3       13276.71          PORTAL TRANSPARÊNCIA - SUBSÍDIO, FG OU CARGO E...   \n",
       "4       13276.71                 PORTAL TRANSPARÊNCIA - VANTAGENS EVENTUAIS   \n",
       "\n",
       "   VALOR_EVENTO  TIPO_EVENTO  \n",
       "0  ------------  -----------  \n",
       "1        621.03     DESCONTO  \n",
       "2       1757.78     DESCONTO  \n",
       "3       9957.78     VANTAGEM  \n",
       "4       3318.93     VANTAGEM  "
      ]
     },
     "execution_count": 21,
     "metadata": {},
     "output_type": "execute_result"
    }
   ],
   "source": [
    "test.fillna('').head()"
   ]
  },
  {
   "cell_type": "code",
   "execution_count": null,
   "metadata": {},
   "outputs": [],
   "source": []
  }
 ],
 "metadata": {
  "kernelspec": {
   "display_name": "Python 3",
   "language": "python",
   "name": "python3"
  },
  "language_info": {
   "codemirror_mode": {
    "name": "ipython",
    "version": 3
   },
   "file_extension": ".py",
   "mimetype": "text/x-python",
   "name": "python",
   "nbconvert_exporter": "python",
   "pygments_lexer": "ipython3",
   "version": "3.7.0"
  }
 },
 "nbformat": 4,
 "nbformat_minor": 2
}

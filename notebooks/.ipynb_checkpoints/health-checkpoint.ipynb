{
 "cells": [
  {
   "cell_type": "code",
   "execution_count": 199,
   "metadata": {},
   "outputs": [],
   "source": [
    "import pandas as pd\n",
    "import tqdm\n",
    "\n",
    "import re\n",
    "import requests\n",
    "from bs4 import BeautifulSoup\n",
    "\n",
    "import hashlib\n",
    "import datetime"
   ]
  },
  {
   "cell_type": "code",
   "execution_count": 200,
   "metadata": {},
   "outputs": [],
   "source": [
    "base_url = 'http://www.curitiba.pr.gov.br/dadosabertos/consulta'"
   ]
  },
  {
   "cell_type": "code",
   "execution_count": 201,
   "metadata": {},
   "outputs": [],
   "source": [
    "params = {\"grupo\":\"1\"}"
   ]
  },
  {
   "cell_type": "code",
   "execution_count": 202,
   "metadata": {},
   "outputs": [],
   "source": [
    "r = requests.get(base_url, params=params)"
   ]
  },
  {
   "cell_type": "code",
   "execution_count": 203,
   "metadata": {},
   "outputs": [],
   "source": [
    "page = BeautifulSoup(r.text, 'html.parser')"
   ]
  },
  {
   "cell_type": "code",
   "execution_count": 204,
   "metadata": {},
   "outputs": [],
   "source": [
    "__EVENTVALIDATION = page.find(\"input\", {'name': '__EVENTVALIDATION'}).get('value')"
   ]
  },
  {
   "cell_type": "code",
   "execution_count": 205,
   "metadata": {},
   "outputs": [
    {
     "data": {
      "text/plain": [
       "'/wEdAA2o6poNrxbgVd6y/32Tp2NR4mKL5o1QRo/FpCKPmYsWJJ6M545mi+eVxYOsufjJuPs5znhzSWYfXU4ugll/AJGuS7DlCF7QoIFOF8dSWE2wXzkiLQS8NWTPNZDV80Z3AzzphndoyDFnIVED7A3KQw9cs48DT8q4XVH83r8Yw95EbJ8/8wAqn890Z+wGGuGKtYqNvjaF5GeBQ6wPsZcNPGG+vCOATgFUUjl7PbiZupqgZarqqZvleoeig3SW/qIZQc18rBNWX+/2+gn/p/KZl5VO1ZphIOlIzvfivUriA0ZW9qW1QHk='"
      ]
     },
     "execution_count": 205,
     "metadata": {},
     "output_type": "execute_result"
    }
   ],
   "source": [
    "__EVENTVALIDATION"
   ]
  },
  {
   "cell_type": "code",
   "execution_count": 206,
   "metadata": {},
   "outputs": [],
   "source": [
    "__VIEWSTATE = page.find(\"input\", {'name': '__VIEWSTATE'}).get('value')"
   ]
  },
  {
   "cell_type": "code",
   "execution_count": 207,
   "metadata": {},
   "outputs": [
    {
     "data": {
      "text/plain": [
       "'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'"
      ]
     },
     "execution_count": 207,
     "metadata": {},
     "output_type": "execute_result"
    }
   ],
   "source": [
    "__VIEWSTATE"
   ]
  },
  {
   "cell_type": "code",
   "execution_count": 218,
   "metadata": {},
   "outputs": [],
   "source": [
    "pagination = page.find_all(class_='paginacao2')\n",
    "pagination = list(pagination[0].text.replace('\\n', ''))"
   ]
  },
  {
   "cell_type": "code",
   "execution_count": 233,
   "metadata": {},
   "outputs": [],
   "source": [
    "pages = \"\"\n",
    "for page in pagination:\n",
    "    data = {\n",
    "        \"__EVENTTARGET\": f\"ctl00$cphMasterPortal$ucPaginador${page}_pg{page}\",\n",
    "        \"__EVENTVALIDATION\": __EVENTVALIDATION,\n",
    "        \"__VIEWSTATE\": __VIEWSTATE\n",
    "    }\n",
    "    \n",
    "    r = requests.request(\"POST\", base_url, params=params, data=data)\n",
    "    pages = pages + r.text"
   ]
  },
  {
   "cell_type": "code",
   "execution_count": 234,
   "metadata": {},
   "outputs": [],
   "source": [
    "md5 = lambda s : hashlib.md5(s.encode('utf-8')).hexdigest()"
   ]
  },
  {
   "cell_type": "code",
   "execution_count": 235,
   "metadata": {},
   "outputs": [
    {
     "data": {
      "text/plain": [
       "'098f6bcd4621d373cade4e832627b4f6'"
      ]
     },
     "execution_count": 235,
     "metadata": {},
     "output_type": "execute_result"
    }
   ],
   "source": [
    "md5('test')"
   ]
  },
  {
   "cell_type": "code",
   "execution_count": 236,
   "metadata": {},
   "outputs": [],
   "source": [
    "a_tags = BeautifulSoup(pages, 'html.parser').find_all(id='linkArquivo')"
   ]
  },
  {
   "cell_type": "code",
   "execution_count": 237,
   "metadata": {},
   "outputs": [
    {
     "name": "stdout",
     "output_type": "stream",
     "text": [
      "8b0733db2045af8b2b117a707c01e1f1\n"
     ]
    }
   ],
   "source": [
    "print(md5(a_tags[0].text))"
   ]
  },
  {
   "cell_type": "code",
   "execution_count": 238,
   "metadata": {},
   "outputs": [],
   "source": [
    "date_regex = re.compile('\\d{4}-\\d{2}-\\d{2}')"
   ]
  },
  {
   "cell_type": "code",
   "execution_count": 239,
   "metadata": {},
   "outputs": [
    {
     "data": {
      "text/plain": [
       "datetime.date(2018, 10, 10)"
      ]
     },
     "execution_count": 239,
     "metadata": {},
     "output_type": "execute_result"
    }
   ],
   "source": [
    "date_string = date_regex.search('//multimidia.curitiba.pr.gov.br/dadosabertos/SESPAMedicoUnidadesMunicipaisDeSaude/2018-10-10_Sistema_E-Saude_Medicos_-_Base_de_Dados.csv').group()\n",
    "date = datetime.date(*map(int, date_string.split('-')))\n",
    "date\n"
   ]
  },
  {
   "cell_type": "code",
   "execution_count": 240,
   "metadata": {},
   "outputs": [
    {
     "name": "stderr",
     "output_type": "stream",
     "text": [
      "100%|██████████| 16/16 [00:00<00:00, 30657.32it/s]\n"
     ]
    }
   ],
   "source": [
    "databases = []\n",
    "for a_tag in tqdm.tqdm(a_tags):\n",
    "    database_link = a_tag.get('href')[2:]\n",
    "    \n",
    "    if database_link[-4:] == '.csv':\n",
    "        database_id = md5(a_tag.text)\n",
    "        database_title = a_tag.text\n",
    "\n",
    "        database_date_string = date_regex.search(database_link).group()\n",
    "        database_date = datetime.date(*map(int, database_date_string.split('-')))\n",
    "\n",
    "        database = {\n",
    "            'database_id': database_id,\n",
    "            'database_title': database_title,\n",
    "            'database_link': database_link,\n",
    "            'database_date': database_date\n",
    "        }\n",
    "        \n",
    "        databases.append(database)"
   ]
  },
  {
   "cell_type": "code",
   "execution_count": 241,
   "metadata": {},
   "outputs": [
    {
     "data": {
      "text/plain": [
       "[{'database_id': '8b0733db2045af8b2b117a707c01e1f1',\n",
       "  'database_title': 'Sistema E-Saude Medicos - Base de Dados',\n",
       "  'database_link': 'multimidia.curitiba.pr.gov.br/dadosabertos/SESPAMedicoUnidadesMunicipaisDeSaude/2018-10-10_Sistema_E-Saude_Medicos_-_Base_de_Dados.csv',\n",
       "  'database_date': datetime.date(2018, 10, 10)},\n",
       " {'database_id': 'f796c79adbe0ac5460a9a3cb32fdcfc0',\n",
       "  'database_title': 'Sistema E-Saude Medicos - Dicionario de Dados',\n",
       "  'database_link': 'multimidia.curitiba.pr.gov.br/dadosabertos/SESPAMedicoUnidadesMunicipaisDeSaude/2016-10-11_Sistema_E-Saude_Medicos_-_Dicionario_de_Dados.csv',\n",
       "  'database_date': datetime.date(2016, 10, 11)},\n",
       " {'database_id': '71dafcc28761b1972577aa087fffb037',\n",
       "  'database_title': 'Sistema E-Saude Enfermagem - Base de Dados',\n",
       "  'database_link': 'multimidia.curitiba.pr.gov.br/dadosabertos/sespaenfermagem/2018-10-10_Sistema_E-Saude_Enfermagem_-_Base_de_Dados.csv',\n",
       "  'database_date': datetime.date(2018, 10, 10)},\n",
       " {'database_id': '58ca12bfc67f1108e42bee4b51768c1a',\n",
       "  'database_title': 'Sistema E-Saude Enfermagem - Dicionario de Dados',\n",
       "  'database_link': 'multimidia.curitiba.pr.gov.br/dadosabertos/sespaenfermagem/2016-10-11_Sistema_E-Saude_Enfermagem_-_Dicionario_de_Dados.csv',\n",
       "  'database_date': datetime.date(2016, 10, 11)},\n",
       " {'database_id': '81715ca84e69c56dbff1808f7e4e703a',\n",
       "  'database_title': 'Sistema E-Saude Odontologico - Base de Dados',\n",
       "  'database_link': 'multimidia.curitiba.pr.gov.br/dadosabertos/sespaodontologico/2018-10-10_Sistema_E-Saude_Odontologico_-_Base_de_Dados.csv',\n",
       "  'database_date': datetime.date(2018, 10, 10)},\n",
       " {'database_id': 'd34c3b367078452a62290e2b06d6f995',\n",
       "  'database_title': 'Sistema E-Saude Odontologico - Dicionario de Dados',\n",
       "  'database_link': 'multimidia.curitiba.pr.gov.br/dadosabertos/sespaodontologico/2017-01-09_Sistema_E-Saude_Odontologico_-_Dicionario_de_Dados.csv',\n",
       "  'database_date': datetime.date(2017, 1, 9)},\n",
       " {'database_id': '2b1def7de83631a562bf872d80c879cf',\n",
       "  'database_title': 'Sistema E-Saude Outros Niveis Superior - Base de Dados',\n",
       "  'database_link': 'multimidia.curitiba.pr.gov.br/dadosabertos/SESPAOutrosProfissionaisDeNivelSuperior/2018-10-10_Sistema_E-Saude_Outros_Niveis_Superior_-_Base_de_Dados.csv',\n",
       "  'database_date': datetime.date(2018, 10, 10)},\n",
       " {'database_id': '1af25a5dd17aedf6bab1c33445b527fe',\n",
       "  'database_title': 'Sistema E-Saude Outros Niveis Superior - Dicionario de Dados',\n",
       "  'database_link': 'multimidia.curitiba.pr.gov.br/dadosabertos/SESPAOutrosProfissionaisDeNivelSuperior/2016-10-11_Sistema_E-Saude_Outros_Niveis_Superior_-_Dicionario_de_Dados.csv',\n",
       "  'database_date': datetime.date(2016, 10, 11)}]"
      ]
     },
     "execution_count": 241,
     "metadata": {},
     "output_type": "execute_result"
    }
   ],
   "source": [
    "databases"
   ]
  },
  {
   "cell_type": "code",
   "execution_count": 243,
   "metadata": {},
   "outputs": [
    {
     "name": "stderr",
     "output_type": "stream",
     "text": [
      "/usr/local/lib/python3.7/site-packages/IPython/core/interactiveshell.py:2785: DtypeWarning: Columns (16) have mixed types. Specify dtype option on import or set low_memory=False.\n",
      "  interactivity=interactivity, compiler=compiler, result=result)\n"
     ]
    }
   ],
   "source": [
    "test = pd.read_csv('http://multimidia.curitiba.pr.gov.br/dadosabertos/SESPAMedicoUnidadesMunicipaisDeSaude/2018-10-10_Sistema_E-Saude_Medicos_-_Base_de_Dados.csv', encoding=\"ISO-8859-1\", delimiter=';')"
   ]
  },
  {
   "cell_type": "code",
   "execution_count": 244,
   "metadata": {},
   "outputs": [
    {
     "data": {
      "text/html": [
       "<div>\n",
       "<style scoped>\n",
       "    .dataframe tbody tr th:only-of-type {\n",
       "        vertical-align: middle;\n",
       "    }\n",
       "\n",
       "    .dataframe tbody tr th {\n",
       "        vertical-align: top;\n",
       "    }\n",
       "\n",
       "    .dataframe thead th {\n",
       "        text-align: right;\n",
       "    }\n",
       "</style>\n",
       "<table border=\"1\" class=\"dataframe\">\n",
       "  <thead>\n",
       "    <tr style=\"text-align: right;\">\n",
       "      <th></th>\n",
       "      <th>Data do Atendimento</th>\n",
       "      <th>Data de Nascimento</th>\n",
       "      <th>Sexo</th>\n",
       "      <th>Código do Tipo de Unidade</th>\n",
       "      <th>Tipo de Unidade</th>\n",
       "      <th>Código da Unidade</th>\n",
       "      <th>Descrição da Unidade</th>\n",
       "      <th>Código do Procedimento</th>\n",
       "      <th>Descrição do Procedimento</th>\n",
       "      <th>Código do CBO</th>\n",
       "      <th>...</th>\n",
       "      <th>Tipo de Habitação</th>\n",
       "      <th>Destino Lixo</th>\n",
       "      <th>Fezes/Urina</th>\n",
       "      <th>Cômodos</th>\n",
       "      <th>Em Caso de Doença</th>\n",
       "      <th>Grupo Comunitário</th>\n",
       "      <th>Meio de Comunicacao</th>\n",
       "      <th>Meio de Transporte</th>\n",
       "      <th>Municício</th>\n",
       "      <th>Bairro</th>\n",
       "    </tr>\n",
       "  </thead>\n",
       "  <tbody>\n",
       "    <tr>\n",
       "      <th>0</th>\n",
       "      <td>26/06/2018 12:05:15</td>\n",
       "      <td>23/09/1984 00:00:00</td>\n",
       "      <td>F</td>\n",
       "      <td>2</td>\n",
       "      <td>UPA</td>\n",
       "      <td>2639467</td>\n",
       "      <td>UPA FAZENDINHA</td>\n",
       "      <td>301060096</td>\n",
       "      <td>ATENDIMENTO MEDICO EM UNIDADE DE PRONTO ATENDI...</td>\n",
       "      <td>225125</td>\n",
       "      <td>...</td>\n",
       "      <td></td>\n",
       "      <td></td>\n",
       "      <td></td>\n",
       "      <td></td>\n",
       "      <td></td>\n",
       "      <td></td>\n",
       "      <td></td>\n",
       "      <td></td>\n",
       "      <td>CURITIBA</td>\n",
       "      <td>CIDADE INDUSTRIAL</td>\n",
       "    </tr>\n",
       "    <tr>\n",
       "      <th>1</th>\n",
       "      <td>23/08/2018 20:20:35</td>\n",
       "      <td>22/01/1960 00:00:00</td>\n",
       "      <td>M</td>\n",
       "      <td>2</td>\n",
       "      <td>UPA</td>\n",
       "      <td>2639548</td>\n",
       "      <td>UPA CAMPO COMPRIDO</td>\n",
       "      <td>301060029</td>\n",
       "      <td>ATENDIMENTO DE URGENCIA C/ OBSERVACAO ATE 24 H...</td>\n",
       "      <td>225125</td>\n",
       "      <td>...</td>\n",
       "      <td>TIJOLO/ALVENARIA COM REVESTIMENTO</td>\n",
       "      <td>COLETADO</td>\n",
       "      <td>SISTEMA DE ESGOTO</td>\n",
       "      <td>5</td>\n",
       "      <td>UNIDADE DE SAUDE</td>\n",
       "      <td>NAO PARTICIPA</td>\n",
       "      <td>TELEVISAO</td>\n",
       "      <td>ONIBUS</td>\n",
       "      <td>CURITIBA</td>\n",
       "      <td>SAO BRAZ                                      ...</td>\n",
       "    </tr>\n",
       "    <tr>\n",
       "      <th>2</th>\n",
       "      <td>21/06/2018 13:07:16</td>\n",
       "      <td>06/08/2008 00:00:00</td>\n",
       "      <td>F</td>\n",
       "      <td>1</td>\n",
       "      <td>BASICO</td>\n",
       "      <td>17299</td>\n",
       "      <td>UMS IPIRANGA</td>\n",
       "      <td>301010064</td>\n",
       "      <td>CONSULTA MEDICA EM ATENCAO BASICA</td>\n",
       "      <td>225124</td>\n",
       "      <td>...</td>\n",
       "      <td>TIJOLO/ALVENARIA COM REVESTIMENTO</td>\n",
       "      <td>COLETADO</td>\n",
       "      <td>SISTEMA DE ESGOTO</td>\n",
       "      <td>4</td>\n",
       "      <td>UNIDADE DE SAUDE</td>\n",
       "      <td>NAO PARTICIPA</td>\n",
       "      <td>TELEVISAO</td>\n",
       "      <td>ONIBUS</td>\n",
       "      <td>CURITIBA</td>\n",
       "      <td>CAPAO RASO</td>\n",
       "    </tr>\n",
       "    <tr>\n",
       "      <th>3</th>\n",
       "      <td>17/07/2018 06:29:16</td>\n",
       "      <td>01/12/1964 00:00:00</td>\n",
       "      <td>M</td>\n",
       "      <td>2</td>\n",
       "      <td>UPA</td>\n",
       "      <td>2639548</td>\n",
       "      <td>UPA CAMPO COMPRIDO</td>\n",
       "      <td>301060096</td>\n",
       "      <td>ATENDIMENTO MEDICO EM UNIDADE DE PRONTO ATENDI...</td>\n",
       "      <td>225125</td>\n",
       "      <td>...</td>\n",
       "      <td>TIJOLO/ALVENARIA COM REVESTIMENTO</td>\n",
       "      <td>COLETADO</td>\n",
       "      <td>SISTEMA DE ESGOTO</td>\n",
       "      <td>6</td>\n",
       "      <td>UNIDADE DE SAUDE,HOSPITAL</td>\n",
       "      <td>NAO PARTICIPA</td>\n",
       "      <td>TELEVISAO</td>\n",
       "      <td>CARRO</td>\n",
       "      <td>CURITIBA</td>\n",
       "      <td>SANTO INACIO                                  ...</td>\n",
       "    </tr>\n",
       "    <tr>\n",
       "      <th>4</th>\n",
       "      <td>10/08/2018 13:55:22</td>\n",
       "      <td>03/11/2012 00:00:00</td>\n",
       "      <td>M</td>\n",
       "      <td>2</td>\n",
       "      <td>UPA</td>\n",
       "      <td>9214097</td>\n",
       "      <td>UPA TATUQUARA</td>\n",
       "      <td>301060029</td>\n",
       "      <td>ATENDIMENTO DE URGENCIA C/ OBSERVACAO ATE 24 H...</td>\n",
       "      <td>225124</td>\n",
       "      <td>...</td>\n",
       "      <td>MADEIRA APARELHADA</td>\n",
       "      <td>COLETADO</td>\n",
       "      <td>SISTEMA DE ESGOTO</td>\n",
       "      <td>5</td>\n",
       "      <td>HOSPITAL</td>\n",
       "      <td>NAO PARTICIPA</td>\n",
       "      <td>RADIO</td>\n",
       "      <td>ONIBUS,CAMINHAO</td>\n",
       "      <td>CURITIBA</td>\n",
       "      <td>ATUBA                                         ...</td>\n",
       "    </tr>\n",
       "  </tbody>\n",
       "</table>\n",
       "<p>5 rows × 37 columns</p>\n",
       "</div>"
      ],
      "text/plain": [
       "   Data do Atendimento   Data de Nascimento Sexo  Código do Tipo de Unidade  \\\n",
       "0  26/06/2018 12:05:15  23/09/1984 00:00:00    F                          2   \n",
       "1  23/08/2018 20:20:35  22/01/1960 00:00:00    M                          2   \n",
       "2  21/06/2018 13:07:16  06/08/2008 00:00:00    F                          1   \n",
       "3  17/07/2018 06:29:16  01/12/1964 00:00:00    M                          2   \n",
       "4  10/08/2018 13:55:22  03/11/2012 00:00:00    M                          2   \n",
       "\n",
       "  Tipo de Unidade  Código da Unidade Descrição da Unidade  \\\n",
       "0             UPA            2639467       UPA FAZENDINHA   \n",
       "1             UPA            2639548   UPA CAMPO COMPRIDO   \n",
       "2          BASICO              17299         UMS IPIRANGA   \n",
       "3             UPA            2639548   UPA CAMPO COMPRIDO   \n",
       "4             UPA            9214097        UPA TATUQUARA   \n",
       "\n",
       "   Código do Procedimento                          Descrição do Procedimento  \\\n",
       "0               301060096  ATENDIMENTO MEDICO EM UNIDADE DE PRONTO ATENDI...   \n",
       "1               301060029  ATENDIMENTO DE URGENCIA C/ OBSERVACAO ATE 24 H...   \n",
       "2               301010064                  CONSULTA MEDICA EM ATENCAO BASICA   \n",
       "3               301060096  ATENDIMENTO MEDICO EM UNIDADE DE PRONTO ATENDI...   \n",
       "4               301060029  ATENDIMENTO DE URGENCIA C/ OBSERVACAO ATE 24 H...   \n",
       "\n",
       "  Código do CBO                        ...                          \\\n",
       "0        225125                        ...                           \n",
       "1        225125                        ...                           \n",
       "2        225124                        ...                           \n",
       "3        225125                        ...                           \n",
       "4        225124                        ...                           \n",
       "\n",
       "                   Tipo de Habitação Destino Lixo        Fezes/Urina Cômodos  \\\n",
       "0                                                                              \n",
       "1  TIJOLO/ALVENARIA COM REVESTIMENTO     COLETADO  SISTEMA DE ESGOTO       5   \n",
       "2  TIJOLO/ALVENARIA COM REVESTIMENTO     COLETADO  SISTEMA DE ESGOTO       4   \n",
       "3  TIJOLO/ALVENARIA COM REVESTIMENTO     COLETADO  SISTEMA DE ESGOTO       6   \n",
       "4                 MADEIRA APARELHADA     COLETADO  SISTEMA DE ESGOTO       5   \n",
       "\n",
       "           Em Caso de Doença  Grupo Comunitário Meio de Comunicacao  \\\n",
       "0                                                                     \n",
       "1           UNIDADE DE SAUDE      NAO PARTICIPA           TELEVISAO   \n",
       "2           UNIDADE DE SAUDE      NAO PARTICIPA           TELEVISAO   \n",
       "3  UNIDADE DE SAUDE,HOSPITAL      NAO PARTICIPA           TELEVISAO   \n",
       "4                   HOSPITAL      NAO PARTICIPA               RADIO   \n",
       "\n",
       "  Meio de Transporte Municício  \\\n",
       "0                     CURITIBA   \n",
       "1             ONIBUS  CURITIBA   \n",
       "2             ONIBUS  CURITIBA   \n",
       "3              CARRO  CURITIBA   \n",
       "4    ONIBUS,CAMINHAO  CURITIBA   \n",
       "\n",
       "                                              Bairro  \n",
       "0                                  CIDADE INDUSTRIAL  \n",
       "1  SAO BRAZ                                      ...  \n",
       "2                                         CAPAO RASO  \n",
       "3  SANTO INACIO                                  ...  \n",
       "4  ATUBA                                         ...  \n",
       "\n",
       "[5 rows x 37 columns]"
      ]
     },
     "execution_count": 244,
     "metadata": {},
     "output_type": "execute_result"
    }
   ],
   "source": [
    "test.fillna('').head()"
   ]
  },
  {
   "cell_type": "code",
   "execution_count": null,
   "metadata": {},
   "outputs": [],
   "source": []
  }
 ],
 "metadata": {
  "kernelspec": {
   "display_name": "Python 3",
   "language": "python",
   "name": "python3"
  },
  "language_info": {
   "codemirror_mode": {
    "name": "ipython",
    "version": 3
   },
   "file_extension": ".py",
   "mimetype": "text/x-python",
   "name": "python",
   "nbconvert_exporter": "python",
   "pygments_lexer": "ipython3",
   "version": "3.7.0"
  }
 },
 "nbformat": 4,
 "nbformat_minor": 2
}

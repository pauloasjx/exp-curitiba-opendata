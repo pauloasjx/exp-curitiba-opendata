{
 "cells": [
  {
   "cell_type": "code",
   "execution_count": 16,
   "metadata": {},
   "outputs": [],
   "source": [
    "import pandas as pd\n",
    "import tqdm\n",
    "\n",
    "import re\n",
    "import requests\n",
    "from bs4 import BeautifulSoup\n",
    "\n",
    "import hashlib\n",
    "import datetime"
   ]
  },
  {
   "cell_type": "code",
   "execution_count": 17,
   "metadata": {},
   "outputs": [],
   "source": [
    "base_url = 'http://www.curitiba.pr.gov.br/dadosabertos/consulta'"
   ]
  },
  {
   "cell_type": "code",
   "execution_count": 18,
   "metadata": {},
   "outputs": [],
   "source": [
    "params = {\"grupo\":\"4\"}"
   ]
  },
  {
   "cell_type": "code",
   "execution_count": 19,
   "metadata": {},
   "outputs": [],
   "source": [
    "r = requests.get(base_url, params=params)"
   ]
  },
  {
   "cell_type": "code",
   "execution_count": 20,
   "metadata": {},
   "outputs": [],
   "source": [
    "page = BeautifulSoup(r.text, 'html.parser')"
   ]
  },
  {
   "cell_type": "code",
   "execution_count": 21,
   "metadata": {},
   "outputs": [],
   "source": [
    "__EVENTVALIDATION = page.find(\"input\", {'name': '__EVENTVALIDATION'}).get('value')"
   ]
  },
  {
   "cell_type": "code",
   "execution_count": 22,
   "metadata": {},
   "outputs": [
    {
     "data": {
      "text/plain": [
       "'/wEdAAxNHssh9XvNiCSMOikJFVy54mKL5o1QRo/FpCKPmYsWJJ6M545mi+eVxYOsufjJuPs5znhzSWYfXU4ugll/AJGuS7DlCF7QoIFOF8dSWE2wXzkiLQS8NWTPNZDV80Z3AzzphndoyDFnIVED7A3KQw9cs48DT8q4XVH83r8Yw95EbJ8/8wAqn890Z+wGGuGKtYqNvjaF5GeBQ6wPsZcNPGG+vCOATgFUUjl7PbiZupqgZarqqZvleoeig3SW/qIZQc0aaExB2twtCCf/rNOZVIJX6WQ29g=='"
      ]
     },
     "execution_count": 22,
     "metadata": {},
     "output_type": "execute_result"
    }
   ],
   "source": [
    "__EVENTVALIDATION"
   ]
  },
  {
   "cell_type": "code",
   "execution_count": 23,
   "metadata": {},
   "outputs": [],
   "source": [
    "__VIEWSTATE = page.find(\"input\", {'name': '__VIEWSTATE'}).get('value')"
   ]
  },
  {
   "cell_type": "code",
   "execution_count": 24,
   "metadata": {},
   "outputs": [
    {
     "data": {
      "text/plain": [
       "'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'"
      ]
     },
     "execution_count": 24,
     "metadata": {},
     "output_type": "execute_result"
    }
   ],
   "source": [
    "__VIEWSTATE"
   ]
  },
  {
   "cell_type": "code",
   "execution_count": 25,
   "metadata": {},
   "outputs": [],
   "source": [
    "pagination = page.find_all(class_='paginacao2')\n",
    "pagination = list(pagination[0].text.replace('\\n', ''))"
   ]
  },
  {
   "cell_type": "code",
   "execution_count": 26,
   "metadata": {},
   "outputs": [],
   "source": [
    "pages = \"\"\n",
    "for page in pagination:\n",
    "    data = {\n",
    "        \"__EVENTTARGET\": f\"ctl00$cphMasterPortal$ucPaginador${page}_pg{page}\",\n",
    "        \"__EVENTVALIDATION\": __EVENTVALIDATION,\n",
    "        \"__VIEWSTATE\": __VIEWSTATE\n",
    "    }\n",
    "    \n",
    "    r = requests.request(\"POST\", base_url, params=params, data=data)\n",
    "    pages = pages + r.text"
   ]
  },
  {
   "cell_type": "code",
   "execution_count": 27,
   "metadata": {},
   "outputs": [],
   "source": [
    "md5 = lambda s : hashlib.md5(s.encode('utf-8')).hexdigest()"
   ]
  },
  {
   "cell_type": "code",
   "execution_count": 28,
   "metadata": {},
   "outputs": [
    {
     "data": {
      "text/plain": [
       "'098f6bcd4621d373cade4e832627b4f6'"
      ]
     },
     "execution_count": 28,
     "metadata": {},
     "output_type": "execute_result"
    }
   ],
   "source": [
    "md5('test')"
   ]
  },
  {
   "cell_type": "code",
   "execution_count": 29,
   "metadata": {},
   "outputs": [],
   "source": [
    "a_tags = BeautifulSoup(pages, 'html.parser').find_all(id='linkArquivo')"
   ]
  },
  {
   "cell_type": "code",
   "execution_count": 30,
   "metadata": {},
   "outputs": [
    {
     "name": "stdout",
     "output_type": "stream",
     "text": [
      "979df6ebc2280f5c834cc3dff183df24\n"
     ]
    }
   ],
   "source": [
    "print(md5(a_tags[0].text))"
   ]
  },
  {
   "cell_type": "code",
   "execution_count": 31,
   "metadata": {},
   "outputs": [],
   "source": [
    "date_regex = re.compile('\\d{4}-\\d{2}-\\d{2}')"
   ]
  },
  {
   "cell_type": "code",
   "execution_count": 32,
   "metadata": {},
   "outputs": [
    {
     "data": {
      "text/plain": [
       "datetime.date(2018, 10, 10)"
      ]
     },
     "execution_count": 32,
     "metadata": {},
     "output_type": "execute_result"
    }
   ],
   "source": [
    "date_string = date_regex.search('//multimidia.curitiba.pr.gov.br/dadosabertos/SESPAMedicoUnidadesMunicipaisDeSaude/2018-10-10_Sistema_E-Saude_Medicos_-_Base_de_Dados.csv').group()\n",
    "date = datetime.date(*map(int, date_string.split('-')))\n",
    "date\n"
   ]
  },
  {
   "cell_type": "code",
   "execution_count": 33,
   "metadata": {},
   "outputs": [
    {
     "name": "stderr",
     "output_type": "stream",
     "text": [
      "100%|██████████| 6/6 [00:00<00:00, 11972.32it/s]\n"
     ]
    }
   ],
   "source": [
    "databases = []\n",
    "for a_tag in tqdm.tqdm(a_tags):\n",
    "    database_link = a_tag.get('href')[2:]\n",
    "    \n",
    "    if database_link[-4:] == '.csv':\n",
    "        database_id = md5(a_tag.text)\n",
    "        database_title = a_tag.text\n",
    "\n",
    "        database_date_string = date_regex.search(database_link).group()\n",
    "        database_date = datetime.date(*map(int, database_date_string.split('-')))\n",
    "\n",
    "        database = {\n",
    "            'database_id': database_id,\n",
    "            'database_title': database_title,\n",
    "            'database_link': database_link,\n",
    "            'database_date': database_date\n",
    "        }\n",
    "        \n",
    "        databases.append(database)"
   ]
  },
  {
   "cell_type": "code",
   "execution_count": 34,
   "metadata": {},
   "outputs": [
    {
     "data": {
      "text/plain": [
       "[{'database_id': '979df6ebc2280f5c834cc3dff183df24',\n",
       "  'database_title': 'Disque Economia - Base de Dados',\n",
       "  'database_link': 'multimidia.curitiba.pr.gov.br/dadosabertos/DisqueEconomia/2018-10-08_Disque_Economia_-_Base_de_Dados.csv',\n",
       "  'database_date': datetime.date(2018, 10, 8)},\n",
       " {'database_id': '203db94be8f280e2c9911f44dfcf2685',\n",
       "  'database_title': 'Disque Economia - Produto - Base de Dados',\n",
       "  'database_link': 'multimidia.curitiba.pr.gov.br/dadosabertos/DisqueEconomia/2018-10-08_Disque_Economia_-_Produto_-_Base_de_Dados.csv',\n",
       "  'database_date': datetime.date(2018, 10, 8)}]"
      ]
     },
     "execution_count": 34,
     "metadata": {},
     "output_type": "execute_result"
    }
   ],
   "source": [
    "databases"
   ]
  },
  {
   "cell_type": "code",
   "execution_count": 35,
   "metadata": {},
   "outputs": [
    {
     "name": "stderr",
     "output_type": "stream",
     "text": [
      "/usr/local/lib/python3.7/site-packages/IPython/core/interactiveshell.py:2785: DtypeWarning: Columns (1,2,3,5,10,14,15,16,18,19,22) have mixed types. Specify dtype option on import or set low_memory=False.\n",
      "  interactivity=interactivity, compiler=compiler, result=result)\n"
     ]
    }
   ],
   "source": [
    "test = pd.read_csv('http://multimidia.curitiba.pr.gov.br/dadosabertos/DisqueEconomia/2018-10-08_Disque_Economia_-_Base_de_Dados.csv', encoding=\"ISO-8859-1\", delimiter=';')"
   ]
  },
  {
   "cell_type": "code",
   "execution_count": 36,
   "metadata": {},
   "outputs": [
    {
     "data": {
      "text/html": [
       "<div>\n",
       "<style scoped>\n",
       "    .dataframe tbody tr th:only-of-type {\n",
       "        vertical-align: middle;\n",
       "    }\n",
       "\n",
       "    .dataframe tbody tr th {\n",
       "        vertical-align: top;\n",
       "    }\n",
       "\n",
       "    .dataframe thead th {\n",
       "        text-align: right;\n",
       "    }\n",
       "</style>\n",
       "<table border=\"1\" class=\"dataframe\">\n",
       "  <thead>\n",
       "    <tr style=\"text-align: right;\">\n",
       "      <th></th>\n",
       "      <th>DATA_PESQUISA</th>\n",
       "      <th>PRECO_PESQUISADO</th>\n",
       "      <th>CODIGO_ESTABELECIMENTO</th>\n",
       "      <th>CODIGO_ESTABELECIMENTO_FILIAL</th>\n",
       "      <th>ENDERECO_ESTABELECIMENTO</th>\n",
       "      <th>NUMERO_ENDERECO_ESTABELECIMENTO</th>\n",
       "      <th>COMPLEMENTO_ENDERECO_ESTABELECIMENTO</th>\n",
       "      <th>TELEFONE_ESTABELECIMENTO</th>\n",
       "      <th>CIDADE_ESTABELECIMENTO</th>\n",
       "      <th>ESTADO_ESTABELECIMENTO</th>\n",
       "      <th>...</th>\n",
       "      <th>DESCRICAO_CATEGORIA_PRODUTO</th>\n",
       "      <th>CODIGO_PRODUTO</th>\n",
       "      <th>PRODUTO_DESCRICAO</th>\n",
       "      <th>PRODUTO_QTD_EMBALAGEM</th>\n",
       "      <th>CODIGO_TIPO_UNIDADE_MEDIDA_PRODUTO</th>\n",
       "      <th>TIPO_UNIDADE_MEDIDA_PRODUTO_DESCRICAO</th>\n",
       "      <th>TIPO_UNIDADE_MEDIDA_PRODUTO_SIGLA</th>\n",
       "      <th>CODIGO_TIPO_EMBALAGEM_PRODUTO</th>\n",
       "      <th>TIPO_EMBALAGEM_PRODUTO_DESCRICAO</th>\n",
       "      <th>TIPO_EMBALAGEM_PRODUTO_SIGLA</th>\n",
       "    </tr>\n",
       "  </thead>\n",
       "  <tbody>\n",
       "    <tr>\n",
       "      <th>0</th>\n",
       "      <td>-------------</td>\n",
       "      <td>----------------</td>\n",
       "      <td>----------------------</td>\n",
       "      <td>-----------------------------</td>\n",
       "      <td>------------------------</td>\n",
       "      <td>-------------------------------</td>\n",
       "      <td>------------------------------------</td>\n",
       "      <td>------------------------</td>\n",
       "      <td>----------------------</td>\n",
       "      <td>----------------------</td>\n",
       "      <td>...</td>\n",
       "      <td>---------------------------</td>\n",
       "      <td>--------------</td>\n",
       "      <td>-----------------</td>\n",
       "      <td>---------------------</td>\n",
       "      <td>----------------------------------</td>\n",
       "      <td>-------------------------------------</td>\n",
       "      <td>---------------------------------</td>\n",
       "      <td>-----------------------------</td>\n",
       "      <td>--------------------------------</td>\n",
       "      <td>----------------------------</td>\n",
       "    </tr>\n",
       "    <tr>\n",
       "      <th>1</th>\n",
       "      <td>09/07/2018</td>\n",
       "      <td>5.95</td>\n",
       "      <td>2</td>\n",
       "      <td>22</td>\n",
       "      <td>RUA MARTIM AFONSO</td>\n",
       "      <td>2800</td>\n",
       "      <td>CHAMPAGNAT</td>\n",
       "      <td>3019-2800</td>\n",
       "      <td>CURITIBA</td>\n",
       "      <td>PR</td>\n",
       "      <td>...</td>\n",
       "      <td>1</td>\n",
       "      <td>2</td>\n",
       "      <td>Adoçante Em Po/ Acucar Light</td>\n",
       "      <td>500.0</td>\n",
       "      <td>2</td>\n",
       "      <td>GRAMA</td>\n",
       "      <td>GR</td>\n",
       "      <td>11</td>\n",
       "      <td>PACOTE</td>\n",
       "      <td>PCT</td>\n",
       "    </tr>\n",
       "    <tr>\n",
       "      <th>2</th>\n",
       "      <td>09/07/2018</td>\n",
       "      <td>2.45</td>\n",
       "      <td>2</td>\n",
       "      <td>22</td>\n",
       "      <td>RUA MARTIM AFONSO</td>\n",
       "      <td>2800</td>\n",
       "      <td>CHAMPAGNAT</td>\n",
       "      <td>3019-2800</td>\n",
       "      <td>CURITIBA</td>\n",
       "      <td>PR</td>\n",
       "      <td>...</td>\n",
       "      <td>1</td>\n",
       "      <td>4</td>\n",
       "      <td>Acucar Refinado  ( + Barato )</td>\n",
       "      <td>1.0</td>\n",
       "      <td>1</td>\n",
       "      <td>KILOGRAMA</td>\n",
       "      <td>KG</td>\n",
       "      <td>11</td>\n",
       "      <td>PACOTE</td>\n",
       "      <td>PCT</td>\n",
       "    </tr>\n",
       "    <tr>\n",
       "      <th>3</th>\n",
       "      <td>09/07/2018</td>\n",
       "      <td>7.39</td>\n",
       "      <td>2</td>\n",
       "      <td>22</td>\n",
       "      <td>RUA MARTIM AFONSO</td>\n",
       "      <td>2800</td>\n",
       "      <td>CHAMPAGNAT</td>\n",
       "      <td>3019-2800</td>\n",
       "      <td>CURITIBA</td>\n",
       "      <td>PR</td>\n",
       "      <td>...</td>\n",
       "      <td>1</td>\n",
       "      <td>9</td>\n",
       "      <td>Amido de Milho \"Maizena\"</td>\n",
       "      <td>500.0</td>\n",
       "      <td>2</td>\n",
       "      <td>GRAMA</td>\n",
       "      <td>GR</td>\n",
       "      <td>4</td>\n",
       "      <td>CAIXA</td>\n",
       "      <td>CXA</td>\n",
       "    </tr>\n",
       "    <tr>\n",
       "      <th>4</th>\n",
       "      <td>09/07/2018</td>\n",
       "      <td>2.11</td>\n",
       "      <td>2</td>\n",
       "      <td>22</td>\n",
       "      <td>RUA MARTIM AFONSO</td>\n",
       "      <td>2800</td>\n",
       "      <td>CHAMPAGNAT</td>\n",
       "      <td>3019-2800</td>\n",
       "      <td>CURITIBA</td>\n",
       "      <td>PR</td>\n",
       "      <td>...</td>\n",
       "      <td>1</td>\n",
       "      <td>11</td>\n",
       "      <td>Farinha de Trigo Especial  (+ Barato)</td>\n",
       "      <td>1.0</td>\n",
       "      <td>1</td>\n",
       "      <td>KILOGRAMA</td>\n",
       "      <td>KG</td>\n",
       "      <td>11</td>\n",
       "      <td>PACOTE</td>\n",
       "      <td>PCT</td>\n",
       "    </tr>\n",
       "  </tbody>\n",
       "</table>\n",
       "<p>5 rows × 25 columns</p>\n",
       "</div>"
      ],
      "text/plain": [
       "   DATA_PESQUISA  PRECO_PESQUISADO  CODIGO_ESTABELECIMENTO  \\\n",
       "0  -------------  ----------------  ----------------------   \n",
       "1     09/07/2018              5.95                       2   \n",
       "2     09/07/2018              2.45                       2   \n",
       "3     09/07/2018              7.39                       2   \n",
       "4     09/07/2018              2.11                       2   \n",
       "\n",
       "   CODIGO_ESTABELECIMENTO_FILIAL  ENDERECO_ESTABELECIMENTO  \\\n",
       "0  -----------------------------  ------------------------   \n",
       "1                             22         RUA MARTIM AFONSO   \n",
       "2                             22         RUA MARTIM AFONSO   \n",
       "3                             22         RUA MARTIM AFONSO   \n",
       "4                             22         RUA MARTIM AFONSO   \n",
       "\n",
       "   NUMERO_ENDERECO_ESTABELECIMENTO  COMPLEMENTO_ENDERECO_ESTABELECIMENTO  \\\n",
       "0  -------------------------------  ------------------------------------   \n",
       "1                             2800                            CHAMPAGNAT   \n",
       "2                             2800                            CHAMPAGNAT   \n",
       "3                             2800                            CHAMPAGNAT   \n",
       "4                             2800                            CHAMPAGNAT   \n",
       "\n",
       "   TELEFONE_ESTABELECIMENTO  CIDADE_ESTABELECIMENTO  ESTADO_ESTABELECIMENTO  \\\n",
       "0  ------------------------  ----------------------  ----------------------   \n",
       "1                 3019-2800                CURITIBA                      PR   \n",
       "2                 3019-2800                CURITIBA                      PR   \n",
       "3                 3019-2800                CURITIBA                      PR   \n",
       "4                 3019-2800                CURITIBA                      PR   \n",
       "\n",
       "               ...               DESCRICAO_CATEGORIA_PRODUTO  CODIGO_PRODUTO  \\\n",
       "0              ...               ---------------------------  --------------   \n",
       "1              ...                                         1               2   \n",
       "2              ...                                         1               4   \n",
       "3              ...                                         1               9   \n",
       "4              ...                                         1              11   \n",
       "\n",
       "                       PRODUTO_DESCRICAO  PRODUTO_QTD_EMBALAGEM  \\\n",
       "0                      -----------------  ---------------------   \n",
       "1           Adoçante Em Po/ Acucar Light                  500.0   \n",
       "2          Acucar Refinado  ( + Barato )                    1.0   \n",
       "3               Amido de Milho \"Maizena\"                  500.0   \n",
       "4  Farinha de Trigo Especial  (+ Barato)                    1.0   \n",
       "\n",
       "   CODIGO_TIPO_UNIDADE_MEDIDA_PRODUTO  TIPO_UNIDADE_MEDIDA_PRODUTO_DESCRICAO  \\\n",
       "0  ----------------------------------  -------------------------------------   \n",
       "1                                   2                                  GRAMA   \n",
       "2                                   1                              KILOGRAMA   \n",
       "3                                   2                                  GRAMA   \n",
       "4                                   1                              KILOGRAMA   \n",
       "\n",
       "   TIPO_UNIDADE_MEDIDA_PRODUTO_SIGLA  CODIGO_TIPO_EMBALAGEM_PRODUTO  \\\n",
       "0  ---------------------------------  -----------------------------   \n",
       "1                                 GR                             11   \n",
       "2                                 KG                             11   \n",
       "3                                 GR                              4   \n",
       "4                                 KG                             11   \n",
       "\n",
       "   TIPO_EMBALAGEM_PRODUTO_DESCRICAO  TIPO_EMBALAGEM_PRODUTO_SIGLA  \n",
       "0  --------------------------------  ----------------------------  \n",
       "1                            PACOTE                           PCT  \n",
       "2                            PACOTE                           PCT  \n",
       "3                             CAIXA                           CXA  \n",
       "4                            PACOTE                           PCT  \n",
       "\n",
       "[5 rows x 25 columns]"
      ]
     },
     "execution_count": 36,
     "metadata": {},
     "output_type": "execute_result"
    }
   ],
   "source": [
    "test.fillna('').head()"
   ]
  },
  {
   "cell_type": "code",
   "execution_count": null,
   "metadata": {},
   "outputs": [],
   "source": []
  }
 ],
 "metadata": {
  "kernelspec": {
   "display_name": "Python 3",
   "language": "python",
   "name": "python3"
  },
  "language_info": {
   "codemirror_mode": {
    "name": "ipython",
    "version": 3
   },
   "file_extension": ".py",
   "mimetype": "text/x-python",
   "name": "python",
   "nbconvert_exporter": "python",
   "pygments_lexer": "ipython3",
   "version": "3.7.0"
  }
 },
 "nbformat": 4,
 "nbformat_minor": 2
}

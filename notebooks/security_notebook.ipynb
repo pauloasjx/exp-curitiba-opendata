{
 "cells": [
  {
   "cell_type": "code",
   "execution_count": 1,
   "metadata": {},
   "outputs": [],
   "source": [
    "import pandas as pd\n",
    "import tqdm\n",
    "\n",
    "import re\n",
    "import requests\n",
    "from bs4 import BeautifulSoup\n",
    "\n",
    "import hashlib\n",
    "import datetime"
   ]
  },
  {
   "cell_type": "code",
   "execution_count": 2,
   "metadata": {},
   "outputs": [],
   "source": [
    "base_url = 'http://www.curitiba.pr.gov.br/dadosabertos/consulta'"
   ]
  },
  {
   "cell_type": "code",
   "execution_count": 3,
   "metadata": {},
   "outputs": [],
   "source": [
    "params = {\"grupo\":\"12\"}"
   ]
  },
  {
   "cell_type": "code",
   "execution_count": 4,
   "metadata": {},
   "outputs": [],
   "source": [
    "r = requests.get(base_url, params=params)"
   ]
  },
  {
   "cell_type": "code",
   "execution_count": 5,
   "metadata": {},
   "outputs": [],
   "source": [
    "page = BeautifulSoup(r.text, 'html.parser')"
   ]
  },
  {
   "cell_type": "code",
   "execution_count": 6,
   "metadata": {},
   "outputs": [],
   "source": [
    "__EVENTVALIDATION = page.find(\"input\", {'name': '__EVENTVALIDATION'}).get('value')"
   ]
  },
  {
   "cell_type": "code",
   "execution_count": 7,
   "metadata": {},
   "outputs": [
    {
     "data": {
      "text/plain": [
       "'/wEdAAwXv6a+5sDNm/oQBYxJPZ114mKL5o1QRo/FpCKPmYsWJJ6M545mi+eVxYOsufjJuPs5znhzSWYfXU4ugll/AJGuS7DlCF7QoIFOF8dSWE2wXzkiLQS8NWTPNZDV80Z3AzzphndoyDFnIVED7A3KQw9cs48DT8q4XVH83r8Yw95EbJ8/8wAqn890Z+wGGuGKtYqNvjaF5GeBQ6wPsZcNPGG+vCOATgFUUjl7PbiZupqgZarqqZvleoeig3SW/qIZQc0y1tywkg32ggZk7Q8YpokICaak8w=='"
      ]
     },
     "execution_count": 7,
     "metadata": {},
     "output_type": "execute_result"
    }
   ],
   "source": [
    "__EVENTVALIDATION"
   ]
  },
  {
   "cell_type": "code",
   "execution_count": 8,
   "metadata": {},
   "outputs": [],
   "source": [
    "__VIEWSTATE = page.find(\"input\", {'name': '__VIEWSTATE'}).get('value')"
   ]
  },
  {
   "cell_type": "code",
   "execution_count": 9,
   "metadata": {},
   "outputs": [
    {
     "data": {
      "text/plain": [
       "'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'"
      ]
     },
     "execution_count": 9,
     "metadata": {},
     "output_type": "execute_result"
    }
   ],
   "source": [
    "__VIEWSTATE"
   ]
  },
  {
   "cell_type": "code",
   "execution_count": 10,
   "metadata": {},
   "outputs": [],
   "source": [
    "pagination = page.find_all(class_='paginacao2')\n",
    "pagination = list(pagination[0].text.replace('\\n', ''))"
   ]
  },
  {
   "cell_type": "code",
   "execution_count": 11,
   "metadata": {},
   "outputs": [],
   "source": [
    "pages = \"\"\n",
    "for page in pagination:\n",
    "    data = {\n",
    "        \"__EVENTTARGET\": f\"ctl00$cphMasterPortal$ucPaginador${page}_pg{page}\",\n",
    "        \"__EVENTVALIDATION\": __EVENTVALIDATION,\n",
    "        \"__VIEWSTATE\": __VIEWSTATE\n",
    "    }\n",
    "    \n",
    "    r = requests.request(\"POST\", base_url, params=params, data=data)\n",
    "    pages = pages + r.text"
   ]
  },
  {
   "cell_type": "code",
   "execution_count": 12,
   "metadata": {},
   "outputs": [],
   "source": [
    "md5 = lambda s : hashlib.md5(s.encode('utf-8')).hexdigest()"
   ]
  },
  {
   "cell_type": "code",
   "execution_count": 13,
   "metadata": {},
   "outputs": [
    {
     "data": {
      "text/plain": [
       "'098f6bcd4621d373cade4e832627b4f6'"
      ]
     },
     "execution_count": 13,
     "metadata": {},
     "output_type": "execute_result"
    }
   ],
   "source": [
    "md5('test')"
   ]
  },
  {
   "cell_type": "code",
   "execution_count": 14,
   "metadata": {},
   "outputs": [],
   "source": [
    "a_tags = BeautifulSoup(pages, 'html.parser').find_all(id='linkArquivo')"
   ]
  },
  {
   "cell_type": "code",
   "execution_count": 15,
   "metadata": {},
   "outputs": [
    {
     "name": "stdout",
     "output_type": "stream",
     "text": [
      "cc95f0c6b2586dc86799995612ed3f0f\n"
     ]
    }
   ],
   "source": [
    "print(md5(a_tags[0].text))"
   ]
  },
  {
   "cell_type": "code",
   "execution_count": 16,
   "metadata": {},
   "outputs": [],
   "source": [
    "date_regex = re.compile('\\d{4}-\\d{2}-\\d{2}')"
   ]
  },
  {
   "cell_type": "code",
   "execution_count": 17,
   "metadata": {},
   "outputs": [
    {
     "data": {
      "text/plain": [
       "datetime.date(2018, 10, 10)"
      ]
     },
     "execution_count": 17,
     "metadata": {},
     "output_type": "execute_result"
    }
   ],
   "source": [
    "date_string = date_regex.search('//multimidia.curitiba.pr.gov.br/dadosabertos/SESPAMedicoUnidadesMunicipaisDeSaude/2018-10-10_Sistema_E-Saude_Medicos_-_Base_de_Dados.csv').group()\n",
    "date = datetime.date(*map(int, date_string.split('-')))\n",
    "date\n"
   ]
  },
  {
   "cell_type": "code",
   "execution_count": 18,
   "metadata": {},
   "outputs": [
    {
     "name": "stderr",
     "output_type": "stream",
     "text": [
      "100%|██████████| 4/4 [00:00<00:00, 9393.74it/s]\n"
     ]
    }
   ],
   "source": [
    "databases = []\n",
    "for a_tag in tqdm.tqdm(a_tags):\n",
    "    database_link = a_tag.get('href')[2:]\n",
    "    \n",
    "    if database_link[-4:] == '.csv':\n",
    "        database_id = md5(a_tag.text)\n",
    "        database_title = a_tag.text\n",
    "\n",
    "        database_date_string = date_regex.search(database_link).group()\n",
    "        database_date = datetime.date(*map(int, database_date_string.split('-')))\n",
    "\n",
    "        database = {\n",
    "            'database_id': database_id,\n",
    "            'database_title': database_title,\n",
    "            'database_link': database_link,\n",
    "            'database_date': database_date\n",
    "        }\n",
    "        \n",
    "        databases.append(database)"
   ]
  },
  {
   "cell_type": "code",
   "execution_count": 19,
   "metadata": {},
   "outputs": [
    {
     "data": {
      "text/plain": [
       "[{'database_id': 'cc95f0c6b2586dc86799995612ed3f0f',\n",
       "  'database_title': 'sigesguarda - Base de Dados',\n",
       "  'database_link': 'multimidia.curitiba.pr.gov.br/dadosabertos/Sigesguarda/2018-10-01_sigesguarda_-_Base_de_Dados.csv',\n",
       "  'database_date': datetime.date(2018, 10, 1)}]"
      ]
     },
     "execution_count": 19,
     "metadata": {},
     "output_type": "execute_result"
    }
   ],
   "source": [
    "databases"
   ]
  },
  {
   "cell_type": "code",
   "execution_count": 21,
   "metadata": {},
   "outputs": [
    {
     "name": "stderr",
     "output_type": "stream",
     "text": [
      "/usr/local/lib/python3.7/site-packages/IPython/core/interactiveshell.py:2785: DtypeWarning: Columns (0,6,8,10,12,14,15,19,20,21,22,26,33,34) have mixed types. Specify dtype option on import or set low_memory=False.\n",
      "  interactivity=interactivity, compiler=compiler, result=result)\n"
     ]
    }
   ],
   "source": [
    "test = pd.read_csv('http://multimidia.curitiba.pr.gov.br/dadosabertos/Sigesguarda/2018-10-01_sigesguarda_-_Base_de_Dados.csv', encoding=\"ISO-8859-1\", delimiter=';', error_bad_lines=False)"
   ]
  },
  {
   "cell_type": "code",
   "execution_count": 22,
   "metadata": {},
   "outputs": [
    {
     "data": {
      "text/html": [
       "<div>\n",
       "<style scoped>\n",
       "    .dataframe tbody tr th:only-of-type {\n",
       "        vertical-align: middle;\n",
       "    }\n",
       "\n",
       "    .dataframe tbody tr th {\n",
       "        vertical-align: top;\n",
       "    }\n",
       "\n",
       "    .dataframe thead th {\n",
       "        text-align: right;\n",
       "    }\n",
       "</style>\n",
       "<table border=\"1\" class=\"dataframe\">\n",
       "  <thead>\n",
       "    <tr style=\"text-align: right;\">\n",
       "      <th></th>\n",
       "      <th>ATENDIMENTO_ANO</th>\n",
       "      <th>ATENDIMENTO_BAIRRO_NOME</th>\n",
       "      <th>EQUIPAMENTO_URBANO_NOME</th>\n",
       "      <th>FLAG_EQUIPAMENTO_URBANO</th>\n",
       "      <th>FLAG_FLAGRANTE</th>\n",
       "      <th>LOGRADOURO_NOME</th>\n",
       "      <th>NATUREZA1_DEFESA_CIVIL</th>\n",
       "      <th>NATUREZA1_DESCRICAO</th>\n",
       "      <th>NATUREZA2_DEFESA_CIVIL</th>\n",
       "      <th>NATUREZA2_DESCRICAO</th>\n",
       "      <th>...</th>\n",
       "      <th>OCORRENCIA_HORA</th>\n",
       "      <th>OCORRENCIA_MES</th>\n",
       "      <th>OPERACAO_DESCRICAO</th>\n",
       "      <th>ORIGEM_CHAMADO_DESCRICAO</th>\n",
       "      <th>REGIONAL_FATO_NOME</th>\n",
       "      <th>SECRETARIA_NOME</th>\n",
       "      <th>SECRETARIA_SIGLA</th>\n",
       "      <th>SERVICO_NOME</th>\n",
       "      <th>SITUACAO_EQUIPE_DESCRICAO</th>\n",
       "      <th>NUMERO_PROTOCOLO_156</th>\n",
       "    </tr>\n",
       "  </thead>\n",
       "  <tbody>\n",
       "    <tr>\n",
       "      <th>0</th>\n",
       "      <td>---------------</td>\n",
       "      <td>-----------------------</td>\n",
       "      <td>----------------------------------------------...</td>\n",
       "      <td>-----------------------</td>\n",
       "      <td>--------------</td>\n",
       "      <td>----------------------------------------------...</td>\n",
       "      <td>----------------------</td>\n",
       "      <td>----------------------------------------------...</td>\n",
       "      <td>----------------------</td>\n",
       "      <td>----------------------------------------------...</td>\n",
       "      <td>...</td>\n",
       "      <td>---------------</td>\n",
       "      <td>--------------</td>\n",
       "      <td>----------------------------------------------...</td>\n",
       "      <td>----------------------------------------------...</td>\n",
       "      <td>--------------------</td>\n",
       "      <td>----------------------------------------------...</td>\n",
       "      <td>----------------</td>\n",
       "      <td>----------------------------------------------...</td>\n",
       "      <td>----------------------------------------------...</td>\n",
       "      <td>--------------------</td>\n",
       "    </tr>\n",
       "    <tr>\n",
       "      <th>1</th>\n",
       "      <td>2009</td>\n",
       "      <td>CIDADE INDUSTRIAL</td>\n",
       "      <td></td>\n",
       "      <td>NÃO</td>\n",
       "      <td>NÃO</td>\n",
       "      <td>DAVI XAVIER DA SILVA</td>\n",
       "      <td>0</td>\n",
       "      <td>Alarmes</td>\n",
       "      <td></td>\n",
       "      <td></td>\n",
       "      <td>...</td>\n",
       "      <td>15:14:00</td>\n",
       "      <td>1</td>\n",
       "      <td></td>\n",
       "      <td>SIGA</td>\n",
       "      <td>CIC</td>\n",
       "      <td>FUNDAÇÃO DE AÇÃO SOCIAL</td>\n",
       "      <td>FAS</td>\n",
       "      <td>SIGA</td>\n",
       "      <td></td>\n",
       "      <td></td>\n",
       "    </tr>\n",
       "    <tr>\n",
       "      <th>2</th>\n",
       "      <td>2009</td>\n",
       "      <td>FAZENDINHA</td>\n",
       "      <td>BOSQUE DA FAZENDINHA</td>\n",
       "      <td>SIM</td>\n",
       "      <td>NÃO</td>\n",
       "      <td>CARLOS KLEMTZ</td>\n",
       "      <td>0</td>\n",
       "      <td>Roubo</td>\n",
       "      <td></td>\n",
       "      <td></td>\n",
       "      <td>...</td>\n",
       "      <td>15:22:00</td>\n",
       "      <td>1</td>\n",
       "      <td></td>\n",
       "      <td>153</td>\n",
       "      <td>PORTÃO</td>\n",
       "      <td>SECRETARIA MUNICIPAL MEIO AMBIENTE</td>\n",
       "      <td>SMMA</td>\n",
       "      <td>NORMAL</td>\n",
       "      <td></td>\n",
       "      <td></td>\n",
       "    </tr>\n",
       "    <tr>\n",
       "      <th>3</th>\n",
       "      <td>2009</td>\n",
       "      <td>UBERABA</td>\n",
       "      <td></td>\n",
       "      <td>NÃO</td>\n",
       "      <td>NÃO</td>\n",
       "      <td>DOUTOR JOÃO DE PAULA MOURA BRITO</td>\n",
       "      <td>0</td>\n",
       "      <td>Animais</td>\n",
       "      <td></td>\n",
       "      <td></td>\n",
       "      <td>...</td>\n",
       "      <td>15:59:00</td>\n",
       "      <td>1</td>\n",
       "      <td></td>\n",
       "      <td>156</td>\n",
       "      <td>CAJURU</td>\n",
       "      <td>SECRETARIA MUNICIPAL DA SAÚDE</td>\n",
       "      <td>SMS</td>\n",
       "      <td>SACAF</td>\n",
       "      <td></td>\n",
       "      <td>2640856</td>\n",
       "    </tr>\n",
       "    <tr>\n",
       "      <th>4</th>\n",
       "      <td>2009</td>\n",
       "      <td>SÍTIO CERCADO</td>\n",
       "      <td></td>\n",
       "      <td>NÃO</td>\n",
       "      <td>NÃO</td>\n",
       "      <td>EDGARD CAVALCANTI DE ALBUQUERQUE</td>\n",
       "      <td>0</td>\n",
       "      <td>Animais</td>\n",
       "      <td></td>\n",
       "      <td></td>\n",
       "      <td>...</td>\n",
       "      <td>16:13:00</td>\n",
       "      <td>1</td>\n",
       "      <td></td>\n",
       "      <td>156</td>\n",
       "      <td>BAIRRO NOVO</td>\n",
       "      <td>SECRETARIA MUNICIPAL DA SAÚDE</td>\n",
       "      <td>SMS</td>\n",
       "      <td>SACAF</td>\n",
       "      <td></td>\n",
       "      <td>2640854</td>\n",
       "    </tr>\n",
       "  </tbody>\n",
       "</table>\n",
       "<p>5 rows × 35 columns</p>\n",
       "</div>"
      ],
      "text/plain": [
       "   ATENDIMENTO_ANO  ATENDIMENTO_BAIRRO_NOME  \\\n",
       "0  ---------------  -----------------------   \n",
       "1             2009        CIDADE INDUSTRIAL   \n",
       "2             2009               FAZENDINHA   \n",
       "3             2009                  UBERABA   \n",
       "4             2009            SÍTIO CERCADO   \n",
       "\n",
       "                             EQUIPAMENTO_URBANO_NOME  FLAG_EQUIPAMENTO_URBANO  \\\n",
       "0  ----------------------------------------------...  -----------------------   \n",
       "1                                                                         NÃO   \n",
       "2                               BOSQUE DA FAZENDINHA                      SIM   \n",
       "3                                                                         NÃO   \n",
       "4                                                                         NÃO   \n",
       "\n",
       "   FLAG_FLAGRANTE                                    LOGRADOURO_NOME  \\\n",
       "0  --------------  ----------------------------------------------...   \n",
       "1             NÃO                               DAVI XAVIER DA SILVA   \n",
       "2             NÃO                                      CARLOS KLEMTZ   \n",
       "3             NÃO                   DOUTOR JOÃO DE PAULA MOURA BRITO   \n",
       "4             NÃO                   EDGARD CAVALCANTI DE ALBUQUERQUE   \n",
       "\n",
       "   NATUREZA1_DEFESA_CIVIL                                NATUREZA1_DESCRICAO  \\\n",
       "0  ----------------------  ----------------------------------------------...   \n",
       "1                       0                                            Alarmes   \n",
       "2                       0                                              Roubo   \n",
       "3                       0                                            Animais   \n",
       "4                       0                                            Animais   \n",
       "\n",
       "   NATUREZA2_DEFESA_CIVIL                                NATUREZA2_DESCRICAO  \\\n",
       "0  ----------------------  ----------------------------------------------...   \n",
       "1                                                                              \n",
       "2                                                                              \n",
       "3                                                                              \n",
       "4                                                                              \n",
       "\n",
       "           ...           OCORRENCIA_HORA  OCORRENCIA_MES  \\\n",
       "0          ...           ---------------  --------------   \n",
       "1          ...                  15:14:00               1   \n",
       "2          ...                  15:22:00               1   \n",
       "3          ...                  15:59:00               1   \n",
       "4          ...                  16:13:00               1   \n",
       "\n",
       "                                  OPERACAO_DESCRICAO  \\\n",
       "0  ----------------------------------------------...   \n",
       "1                                                      \n",
       "2                                                      \n",
       "3                                                      \n",
       "4                                                      \n",
       "\n",
       "                            ORIGEM_CHAMADO_DESCRICAO    REGIONAL_FATO_NOME  \\\n",
       "0  ----------------------------------------------...  --------------------   \n",
       "1                                               SIGA                   CIC   \n",
       "2                                                153                PORTÃO   \n",
       "3                                                156                CAJURU   \n",
       "4                                                156           BAIRRO NOVO   \n",
       "\n",
       "                                     SECRETARIA_NOME  SECRETARIA_SIGLA  \\\n",
       "0  ----------------------------------------------...  ----------------   \n",
       "1                            FUNDAÇÃO DE AÇÃO SOCIAL               FAS   \n",
       "2                 SECRETARIA MUNICIPAL MEIO AMBIENTE              SMMA   \n",
       "3                      SECRETARIA MUNICIPAL DA SAÚDE               SMS   \n",
       "4                      SECRETARIA MUNICIPAL DA SAÚDE               SMS   \n",
       "\n",
       "                                        SERVICO_NOME  \\\n",
       "0  ----------------------------------------------...   \n",
       "1                                               SIGA   \n",
       "2                                             NORMAL   \n",
       "3                                              SACAF   \n",
       "4                                              SACAF   \n",
       "\n",
       "                           SITUACAO_EQUIPE_DESCRICAO  NUMERO_PROTOCOLO_156  \n",
       "0  ----------------------------------------------...  --------------------  \n",
       "1                                                                           \n",
       "2                                                                           \n",
       "3                                                                  2640856  \n",
       "4                                                                  2640854  \n",
       "\n",
       "[5 rows x 35 columns]"
      ]
     },
     "execution_count": 22,
     "metadata": {},
     "output_type": "execute_result"
    }
   ],
   "source": [
    "test.fillna('').head()"
   ]
  },
  {
   "cell_type": "code",
   "execution_count": null,
   "metadata": {},
   "outputs": [],
   "source": []
  }
 ],
 "metadata": {
  "kernelspec": {
   "display_name": "Python 3",
   "language": "python",
   "name": "python3"
  },
  "language_info": {
   "codemirror_mode": {
    "name": "ipython",
    "version": 3
   },
   "file_extension": ".py",
   "mimetype": "text/x-python",
   "name": "python",
   "nbconvert_exporter": "python",
   "pygments_lexer": "ipython3",
   "version": "3.7.0"
  }
 },
 "nbformat": 4,
 "nbformat_minor": 2
}

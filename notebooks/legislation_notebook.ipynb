{
 "cells": [
  {
   "cell_type": "code",
   "execution_count": 1,
   "metadata": {},
   "outputs": [],
   "source": [
    "import pandas as pd\n",
    "import tqdm\n",
    "\n",
    "import re\n",
    "import requests\n",
    "from bs4 import BeautifulSoup\n",
    "\n",
    "import hashlib\n",
    "import datetime"
   ]
  },
  {
   "cell_type": "code",
   "execution_count": 2,
   "metadata": {},
   "outputs": [],
   "source": [
    "base_url = 'http://www.curitiba.pr.gov.br/dadosabertos/consulta'"
   ]
  },
  {
   "cell_type": "code",
   "execution_count": 3,
   "metadata": {},
   "outputs": [],
   "source": [
    "params = {\"grupo\":\"14\"}"
   ]
  },
  {
   "cell_type": "code",
   "execution_count": 4,
   "metadata": {},
   "outputs": [],
   "source": [
    "r = requests.get(base_url, params=params)"
   ]
  },
  {
   "cell_type": "code",
   "execution_count": 5,
   "metadata": {},
   "outputs": [],
   "source": [
    "page = BeautifulSoup(r.text, 'html.parser')"
   ]
  },
  {
   "cell_type": "code",
   "execution_count": 6,
   "metadata": {},
   "outputs": [],
   "source": [
    "__EVENTVALIDATION = page.find(\"input\", {'name': '__EVENTVALIDATION'}).get('value')"
   ]
  },
  {
   "cell_type": "code",
   "execution_count": 7,
   "metadata": {},
   "outputs": [
    {
     "data": {
      "text/plain": [
       "'/wEdAAxXJ2MkySX1N58GqVoE0V564mKL5o1QRo/FpCKPmYsWJJ6M545mi+eVxYOsufjJuPs5znhzSWYfXU4ugll/AJGuS7DlCF7QoIFOF8dSWE2wXzkiLQS8NWTPNZDV80Z3AzzphndoyDFnIVED7A3KQw9cs48DT8q4XVH83r8Yw95EbJ8/8wAqn890Z+wGGuGKtYqNvjaF5GeBQ6wPsZcNPGG+vCOATgFUUjl7PbiZupqgZarqqZvleoeig3SW/qIZQc0g5Yr4HVWZGcKVTKdqN6QTVRU9dw=='"
      ]
     },
     "execution_count": 7,
     "metadata": {},
     "output_type": "execute_result"
    }
   ],
   "source": [
    "__EVENTVALIDATION"
   ]
  },
  {
   "cell_type": "code",
   "execution_count": 8,
   "metadata": {},
   "outputs": [],
   "source": [
    "__VIEWSTATE = page.find(\"input\", {'name': '__VIEWSTATE'}).get('value')"
   ]
  },
  {
   "cell_type": "code",
   "execution_count": 9,
   "metadata": {},
   "outputs": [
    {
     "data": {
      "text/plain": [
       "'/wEPDwUJMzc0Mzc1MzA2DxYGHgtzdGF0ZV9ncnVwbwUCMTQeCGlkZkdydXBvAg4eCGJ1c2NhUG9yZBYCZg9kFgICAw9kFgICAQ8WAh4GYWN0aW9uBR8vZGFkb3NhYmVydG9zL2NvbnN1bHRhP2dydXBvPTE0Fg4CAg8QDxYGHg1EYXRhVGV4dEZpZWxkBQpOb21lUGFnaW5hHg5EYXRhVmFsdWVGaWVsZAUJVXJsUGFnaW5hHgtfIURhdGFCb3VuZGcWBB4Jb25rZXlkb3duBUNpZihJc0VudGVyS2V5KGV2ZW50KSl7UmVkaXJlY2lvbmFyQWNlc3NvUmFwaWRvKHRoaXMpO3JldHVybiBmYWxzZTt9HgdvbmNsaWNrBR9SZWRpcmVjaW9uYXJBY2Vzc29SYXBpZG8odGhpcyk7EBUGDkFjZXNzbyBSw6FwaWRvFlNlY3JldGFyaWFzIGUgw5NyZ8Ojb3MRU2VydmnDp29zIE9uLUxpbmUYU2VydmnDp29zIHBhcmEgYSBFbXByZXNhGVNlcnZpw6dvcyBwYXJhIG8gQ2lkYWTDo28TU2l0ZXMgZGEgUHJlZmVpdHVyYRUGAA0vc2VjcmV0YXJpYXMvGS9saXN0YS1zZXJ2aWNvcy1vbi1saW5lLzIRL3NlcnZpY29zL2VtcHJlc2ERL3NlcnZpY29zL2NpZGFkYW8cL2xpc3RhLXNpdGVzLWRhLXByZWZlaXR1cmEvNRQrAwZnZ2dnZ2dkZAIEDw9kFgIfBwVJcmV0dXJuIFZhbGlkYXJQZXNxdWlzYSgndHh0UGVzcXVpc2FUb3BvJywnY3RsMDAkbG5rUGVzcXVpc2FUb3BvJywgZXZlbnQpO2QCBg8PFgIeBFRleHQFDlPDoWIsIDEzLzEwLzE4ZGQCBw8PFgIeCEltYWdlVXJsBRV+L2ltYWdlbS90ZW1wby9wYy5naWZkZAIIDw8WAh8JBQQyNcK6ZGQCCQ8PFgIfCQUEMTXCumRkAgoPZBYOAgMPZBYEAgEPFgIfCQV1PGEgaHJlZj0iLyIgdGFyZ2V0PSJfdG9wIj48aW1nIHNyYz0iL2luY2x1ZGUvZGVzaWduL2ltZy90aXRfcG9ydGFsLmdpZiIgYWx0PSJQcmVmZWl0dXJhIE11bmljaXBhbCBkZSBDdXJpdGliYSIgLz48L2E+ZAIFDxYCHgdWaXNpYmxlZxYEAgEPDxYCHgtOYXZpZ2F0ZVVybAUSfi9zZXJ2aWNvcy9jaWRhZGFvZGQCAw8PFgIfDAUSfi9zZXJ2aWNvcy9lbXByZXNhZGQCBg8PZBYCHwcFXWlmKElzRW50ZXJLZXkoZXZlbnQpKXtTdWJtZXRlckRvUG9zdEJhY2soJ2N0bDAwJGNwaE1hc3RlclBvcnRhbCRidG5QZXNxdWlzYXInKTtyZXR1cm4gZmFsc2U7fWQCCA8WAh8JBfwJPGxpPjxhIGhyZWY9Jy9kYWRvc2FiZXJ0b3MvY29uc3VsdGEvP2dydXBvPTAnID5Ub2RhcyBhcyBCYXNlcyAoMjApPC9hPjwvbGk+PGxpPjxhIGhyZWY9Jy8vd3d3LmN1cml0aWJhLnByLmdvdi5ici9kYWRvc2FiZXJ0b3MvY29uc3VsdGEvP2dydXBvPTEnID4gU2HDumRlICg0KTwvYT48L2xpPjxsaT48YSBocmVmPScvL3d3dy5jdXJpdGliYS5wci5nb3YuYnIvZGFkb3NhYmVydG9zL2NvbnN1bHRhLz9ncnVwbz0yJyA+IEZpbmFuY2Vpcm8gKDIpPC9hPjwvbGk+PGxpPjxhIGhyZWY9Jy8vd3d3LmN1cml0aWJhLnByLmdvdi5ici9kYWRvc2FiZXJ0b3MvY29uc3VsdGEvP2dydXBvPTMnID4gUmVjdXJzb3MgSHVtYW5vcyAoMSk8L2E+PC9saT48bGk+PGEgaHJlZj0nLy93d3cuY3VyaXRpYmEucHIuZ292LmJyL2RhZG9zYWJlcnRvcy9jb25zdWx0YS8/Z3J1cG89NCcgPiBBYmFzdGVjaW1lbnRvICgxKTwvYT48L2xpPjxsaT48YSBocmVmPScvL3d3dy5jdXJpdGliYS5wci5nb3YuYnIvZGFkb3NhYmVydG9zL2NvbnN1bHRhLz9ncnVwbz02JyA+IEN1bHR1cmEgKDIpPC9hPjwvbGk+PGxpPjxhIGhyZWY9Jy8vd3d3LmN1cml0aWJhLnByLmdvdi5ici9kYWRvc2FiZXJ0b3MvY29uc3VsdGEvP2dydXBvPTcnID4gR292ZXJubyBNdW5pY2lwYWwgKDMpPC9hPjwvbGk+PGxpPjxhIGhyZWY9Jy8vd3d3LmN1cml0aWJhLnByLmdvdi5ici9kYWRvc2FiZXJ0b3MvY29uc3VsdGEvP2dydXBvPTgnID4gVHJhbnNwb3J0ZSAoMSk8L2E+PC9saT48bGk+PGEgaHJlZj0nLy93d3cuY3VyaXRpYmEucHIuZ292LmJyL2RhZG9zYWJlcnRvcy9jb25zdWx0YS8/Z3J1cG89OScgPiBIYWJpdGHDp8OjbyAoMSk8L2E+PC9saT48bGk+PGEgaHJlZj0nLy93d3cuY3VyaXRpYmEucHIuZ292LmJyL2RhZG9zYWJlcnRvcy9jb25zdWx0YS8/Z3J1cG89MTAnID4gUGVzcXVpc2EgZSBQbGFuZWphbWVudC4uLiAoMSk8L2E+PC9saT48bGk+PGEgaHJlZj0nLy93d3cuY3VyaXRpYmEucHIuZ292LmJyL2RhZG9zYWJlcnRvcy9jb25zdWx0YS8/Z3J1cG89MTInID4gU2VndXJhbsOnYSAoMSk8L2E+PC9saT48bGk+PGEgaHJlZj0nLy93d3cuY3VyaXRpYmEucHIuZ292LmJyL2RhZG9zYWJlcnRvcy9jb25zdWx0YS8/Z3J1cG89MTMnID4gQWRtaW5pc3RyYcOnw6NvIFDDumJsaWNhICgyKTwvYT48L2xpPjxsaT48YSBocmVmPScvL3d3dy5jdXJpdGliYS5wci5nb3YuYnIvZGFkb3NhYmVydG9zL2NvbnN1bHRhLz9ncnVwbz0xNCcgY2xhc3M9J3NlbGVjdGVkJz4gTGVnaXNsYcOnw6NvICgxKTwvYT48L2xpPmQCCg8PFgIfCQUBMWRkAgwPFgIfCQVZPGgzIGNsYXNzPSJidXNjYS1kYWRvc2FiZXJ0b3MiPlJlc3VsdGFkbyBkYSBwZXNxdWlzYSBwb3IgPHNwYW4gY2xhc3M9InRlcm1vIj48L3NwYW4+PC9oMz5kAg4PFgIeC18hSXRlbUNvdW50AgEWAmYPZBYaZg8VAS5TaXN0ZW1hIE11bmljaXBhbCBkZSBMZWdpc2xhw6fDo28gLSBMRUdJU0xBRE9DZAIDDxYCHwkFtANPIFNpc3RlbWEgTXVuaWNpcGFsIGRlIExlZ2lzbGHDp8OjbyAoTGVnaXNsYWRvYykgw6kgdW0gc2lzdGVtYSBkZXN0aW5hZG8gYSBvZmVyZWNlciBhbyBjaWRhZMOjbyBhY2Vzc28gb25saW5lIGFvcyBhdG9zIG9maWNpYWlzIGUgYW8gRGnDoXJpbyBPZmljaWFsIEVsZXRyw7RuaWNvIGRvIE11bmljw61waW8uIFRlbSBjb21vIHByaW5jaXBhaXMgcHJvZHV0b3MgYSBhc3NpbmF0dXJhIGRpZ2l0YWwsIGEgY2VydGlmaWNhw6fDo28gZWxldHLDtG5pY2EsIG8gZGnDoXJpbyBvZmljaWFsIGNvbSBlZGnDp8O1ZXMgZGnDoXJpYXMsIHBlc3F1aXNhIGRhIGxlZ2lzbGHDp8OjbyBtdW5pY2lwYWwgdmlhIGludHJhbmV0IGUgaW50ZXJuZXQsIHF1ZSB0cmF6ZW0gc2VndXJhbsOnYSwgY29uZmlhYmlsaWRhZGUsIHRyYW5zcGFyw6puY2lhLCBjbGFyZXphIGUgcHVibGljaWRhZGUuZAIFDxYCHwkFEUdvdmVybm8gTXVuaWNpcGFsZAIHDxYCHwkFODxwPjxzcGFuPlJlc3BvbnPDoXZlbDo8L3NwYW4+ICBKb3N1w6kgQWx2ZXMgRmlndWVpcmE8L3A+ZAIJDxYCHwkFODxwPjxzcGFuPkZyZXF1w6puY2lhIGRlIGF0dWFsaXphw6fDo286IDwvc3Bhbj5EaWFyaW88L3A+ZAILDxYCHwkFTDxwPjxzcGFuPkVzcGVjdHJvIHRlbXBvcmFsOjwvc3Bhbj4gIERlIDIwMTIgYXTDqSBvIG1vbWVudG8gZGEgZXh0cmHDp8OjbzwvcD5kAg0PFgIfCQU7PHA+PHNwYW4+R3J1cG9zOiA8L3NwYW4+R292ZXJubyBNdW5pY2lwYWwsIExlZ2lzbGHDp8OjbzwvcD5kAg8PFgIfCQU3PHA+PHNwYW4+Q2FtcG9zOiA8L3NwYW4+VmVyIG5vIGRpY2lvbsOhcmlvIGRlIGRhZG9zPC9wPmQCEQ8WAh8JBYYBPHA+PHNwYW4+T2JzZXJ2YcOnw7Vlczo8L3NwYW4+ICBUZWxlZm9uZSBwYXJhIGluZm9ybWHDp8O1ZXMgc29icmUgYSBiYXNlOiAoNDEpIDMzNTAtODM3OSwgZS1tYWlsOiBqZmlndWVpcmFAc2dtLmN1cml0aWJhLnByLmdvdi5icjwvcD5kAhMPFgIfCQXhBTxwIGNsYXNzPSdlc3BhY28nPjxzcGFuPkRhZG9zIGUgcmVjdXJzb3M6PC9zcGFuPjwvcD48dWwgY2xhc3M9J2ljb25lJz48bGk+PGEgaHJlZj0nLy9tdWx0aW1pZGlhLmN1cml0aWJhLnByLmdvdi5ici9kYWRvc2FiZXJ0b3MvTGVnaXNsYWRvYy8yMDE4LTEwLTEyX2xlZ2lzbGFkb2NfLV9CYXNlX2RlX0RhZG9zLmNzdicgb25DbGljaz0iZ2EoJ3NlbmQnLCAnZXZlbnQnLCAnRGFkb3MgQWJlcnRvcycsICdBcnF1aXZvIGxlZ2lzbGFkb2MgLSBCYXNlIGRlIERhZG9zJyk7IiBjbGFzcz0naWNvIGNzdicgcnVuYXQ9J3NlcnZlcicgaWQ9J2xpbmtBcnF1aXZvJz5sZWdpc2xhZG9jIC0gQmFzZSBkZSBEYWRvczwvYT48c3Bhbj4gKEF0dWFsaXphZG8gZW0gMTIvMTAvMjAxOCk8L3NwYW4+PC9saT48bGk+PGEgaHJlZj0nLy9tdWx0aW1pZGlhLmN1cml0aWJhLnByLmdvdi5ici9kYWRvc2FiZXJ0b3MvTGVnaXNsYWRvYy8yMDE1LTEyLTAxX0xlZ2lzbGFkb2NfLV9EaWNpb25hcmlvX2RlX0RhZG9zLnhsc3gnIG9uQ2xpY2s9ImdhKCdzZW5kJywgJ2V2ZW50JywgJ0RhZG9zIEFiZXJ0b3MnLCAnQXJxdWl2byBMZWdpc2xhZG9jIC0gRGljaW9uYXJpbyBkZSBEYWRvcycpOyIgY2xhc3M9J2ljbyB4bHN4JyBydW5hdD0nc2VydmVyJyBpZD0nbGlua0FycXVpdm8nPkxlZ2lzbGFkb2MgLSBEaWNpb25hcmlvIGRlIERhZG9zPC9hPjxzcGFuPiAoQXR1YWxpemFkbyBlbSAwMS8xMi8yMDE1KTwvc3Bhbj48L2xpPjwvdWw+ZAIVDxYCHwkFLzxwIGNsYXNzPSdlc3BhY28nPjxzcGFuPkhpc3TDs3JpY286IDwvc3Bhbj48L3A+ZAIXDxYCHwkFjQI8cD48YSBocmVmPSdodHRwOi8vZGFkb3NhYmVydG9zLmMzc2wudWZwci5ici9jdXJpdGliYS9MZWdpc2xhZG9jLycgdGFyZ2V0PSdfYmxhbmsnIHN0eWxlPSd0ZXh0LWRlY29yYXRpb246IG5vbmU7JyBvbkNsaWNrPSJnYSgnc2VuZCcsICdldmVudCcsICdEYWRvcyBBYmVydG9zJywgJ0hpc3TDs3JpY28gZGEgYmFzZSBTaXN0ZW1hIE11bmljaXBhbCBkZSBMZWdpc2xhw6fDo28gLSBMRUdJU0xBRE9DJyk7IiBpZD0nbGlua0FycXVpdm8nPkJhc2UgZGUgRGFkb3M8L2E+PC9wPmQCGQ8WAh8JBY0CPHA+PGEgaHJlZj0ncnN5bmM6Ly9kYWRvc2FiZXJ0b3MuYzNzbC51ZnByLmJyL2N1cml0aWJhL0xlZ2lzbGFkb2MvJyB0YXJnZXQ9J19ibGFuaycgc3R5bGU9J3RleHQtZGVjb3JhdGlvbjogbm9uZTsnIG9uQ2xpY2sgPSJnYSgnc2VuZCcsICdldmVudCcsICdEYWRvcyBBYmVydG9zJywgJ0hpc3TDs3JpY28gdmlhIFJTeW5jIFNpc3RlbWEgTXVuaWNpcGFsIGRlIExlZ2lzbGHDp8OjbyAtIExFR0lTTEFET0MnKTsiIGlkPSdsaW5rQXJxdWl2byc+VmlhIFJTeW5jPC9hPjwvcD5kAhAPDxYKHg9yZXN1bHRQb3JQYWdpbmECAx4LcGFnaW5hQXR1YWwCAR4PdG90YWxSZXN1bHRhZG9zAgEeDHBhZ2luYUluaWNpbwIBHgx0b3RhbFBhZ2luYXMHAAAAAAAA8D9kFgICAg88KwARAgAPFgoeE0F1dG9HZW5lcmF0ZUNvbHVtbnNnHgtBbGxvd1BhZ2luZ2ceCFBhZ2VTaXplAgMfBmcfDQIBZAwUKwABFgYeBFR5cGUZKwEeBE5hbWUFBEl0ZW0eCURhdGFGaWVsZAUBIRYCZg9kFgYCAQ9kFgJmDw8WAh8JBQEwZGQCAg8PFgIfC2hkZAIDDw8WAh8LaGRkGAEFLmN0bDAwJGNwaE1hc3RlclBvcnRhbCR1Y1BhZ2luYWRvciRnZHZQYWdpbmFjYW8PPCsADAEIAgFkIBoO6s4o23xW0mXuKqPk4f+sSs4='"
      ]
     },
     "execution_count": 9,
     "metadata": {},
     "output_type": "execute_result"
    }
   ],
   "source": [
    "__VIEWSTATE"
   ]
  },
  {
   "cell_type": "code",
   "execution_count": 10,
   "metadata": {},
   "outputs": [],
   "source": [
    "pagination = page.find_all(class_='paginacao2')\n",
    "pagination = list(pagination[0].text.replace('\\n', ''))"
   ]
  },
  {
   "cell_type": "code",
   "execution_count": 11,
   "metadata": {},
   "outputs": [],
   "source": [
    "pages = \"\"\n",
    "for page in pagination:\n",
    "    data = {\n",
    "        \"__EVENTTARGET\": f\"ctl00$cphMasterPortal$ucPaginador${page}_pg{page}\",\n",
    "        \"__EVENTVALIDATION\": __EVENTVALIDATION,\n",
    "        \"__VIEWSTATE\": __VIEWSTATE\n",
    "    }\n",
    "    \n",
    "    r = requests.request(\"POST\", base_url, params=params, data=data)\n",
    "    pages = pages + r.text"
   ]
  },
  {
   "cell_type": "code",
   "execution_count": 12,
   "metadata": {},
   "outputs": [],
   "source": [
    "md5 = lambda s : hashlib.md5(s.encode('utf-8')).hexdigest()"
   ]
  },
  {
   "cell_type": "code",
   "execution_count": 13,
   "metadata": {},
   "outputs": [
    {
     "data": {
      "text/plain": [
       "'098f6bcd4621d373cade4e832627b4f6'"
      ]
     },
     "execution_count": 13,
     "metadata": {},
     "output_type": "execute_result"
    }
   ],
   "source": [
    "md5('test')"
   ]
  },
  {
   "cell_type": "code",
   "execution_count": 14,
   "metadata": {},
   "outputs": [],
   "source": [
    "a_tags = BeautifulSoup(pages, 'html.parser').find_all(id='linkArquivo')"
   ]
  },
  {
   "cell_type": "code",
   "execution_count": 15,
   "metadata": {},
   "outputs": [
    {
     "name": "stdout",
     "output_type": "stream",
     "text": [
      "c3d7c7962b0f35bdb3a4f1561341db99\n"
     ]
    }
   ],
   "source": [
    "print(md5(a_tags[0].text))"
   ]
  },
  {
   "cell_type": "code",
   "execution_count": 16,
   "metadata": {},
   "outputs": [],
   "source": [
    "date_regex = re.compile('\\d{4}-\\d{2}-\\d{2}')"
   ]
  },
  {
   "cell_type": "code",
   "execution_count": 17,
   "metadata": {},
   "outputs": [
    {
     "data": {
      "text/plain": [
       "datetime.date(2018, 10, 10)"
      ]
     },
     "execution_count": 17,
     "metadata": {},
     "output_type": "execute_result"
    }
   ],
   "source": [
    "date_string = date_regex.search('//multimidia.curitiba.pr.gov.br/dadosabertos/SESPAMedicoUnidadesMunicipaisDeSaude/2018-10-10_Sistema_E-Saude_Medicos_-_Base_de_Dados.csv').group()\n",
    "date = datetime.date(*map(int, date_string.split('-')))\n",
    "date\n"
   ]
  },
  {
   "cell_type": "code",
   "execution_count": 18,
   "metadata": {},
   "outputs": [
    {
     "name": "stderr",
     "output_type": "stream",
     "text": [
      "100%|██████████| 4/4 [00:00<00:00, 9592.46it/s]\n"
     ]
    }
   ],
   "source": [
    "databases = []\n",
    "for a_tag in tqdm.tqdm(a_tags):\n",
    "    database_link = a_tag.get('href')[2:]\n",
    "    \n",
    "    if database_link[-4:] == '.csv':\n",
    "        database_id = md5(a_tag.text)\n",
    "        database_title = a_tag.text\n",
    "\n",
    "        database_date_string = date_regex.search(database_link).group()\n",
    "        database_date = datetime.date(*map(int, database_date_string.split('-')))\n",
    "\n",
    "        database = {\n",
    "            'database_id': database_id,\n",
    "            'database_title': database_title,\n",
    "            'database_link': database_link,\n",
    "            'database_date': database_date\n",
    "        }\n",
    "        \n",
    "        databases.append(database)"
   ]
  },
  {
   "cell_type": "code",
   "execution_count": 19,
   "metadata": {},
   "outputs": [
    {
     "data": {
      "text/plain": [
       "[{'database_id': 'c3d7c7962b0f35bdb3a4f1561341db99',\n",
       "  'database_title': 'legisladoc - Base de Dados',\n",
       "  'database_link': 'multimidia.curitiba.pr.gov.br/dadosabertos/Legisladoc/2018-10-12_legisladoc_-_Base_de_Dados.csv',\n",
       "  'database_date': datetime.date(2018, 10, 12)}]"
      ]
     },
     "execution_count": 19,
     "metadata": {},
     "output_type": "execute_result"
    }
   ],
   "source": [
    "databases"
   ]
  },
  {
   "cell_type": "code",
   "execution_count": 22,
   "metadata": {},
   "outputs": [
    {
     "name": "stderr",
     "output_type": "stream",
     "text": [
      "/usr/local/lib/python3.7/site-packages/IPython/core/interactiveshell.py:2785: DtypeWarning: Columns (0,2,3,4,15,16,17,18,19,20,21,22,23,24,26,28,29,30,34,35,38,41) have mixed types. Specify dtype option on import or set low_memory=False.\n",
      "  interactivity=interactivity, compiler=compiler, result=result)\n"
     ]
    }
   ],
   "source": [
    "test = pd.read_csv('http://multimidia.curitiba.pr.gov.br/dadosabertos/Legisladoc/2018-10-12_legisladoc_-_Base_de_Dados.csv', encoding=\"ISO-8859-1\", delimiter=';')"
   ]
  },
  {
   "cell_type": "code",
   "execution_count": 23,
   "metadata": {},
   "outputs": [
    {
     "data": {
      "text/html": [
       "<div>\n",
       "<style scoped>\n",
       "    .dataframe tbody tr th:only-of-type {\n",
       "        vertical-align: middle;\n",
       "    }\n",
       "\n",
       "    .dataframe tbody tr th {\n",
       "        vertical-align: top;\n",
       "    }\n",
       "\n",
       "    .dataframe thead th {\n",
       "        text-align: right;\n",
       "    }\n",
       "</style>\n",
       "<table border=\"1\" class=\"dataframe\">\n",
       "  <thead>\n",
       "    <tr style=\"text-align: right;\">\n",
       "      <th></th>\n",
       "      <th>ATO_IDF</th>\n",
       "      <th>ATO_NUMERO_IDENTIFICACAO</th>\n",
       "      <th>ATO_NUMERO_OFICIAL</th>\n",
       "      <th>ATO_DIARIO_OFICIAL</th>\n",
       "      <th>ATO_VERSAO</th>\n",
       "      <th>ATO_DATA_CRIACAO</th>\n",
       "      <th>ATO_DATA_ASSINATURA</th>\n",
       "      <th>ATO_DATA_PUBLICACAO</th>\n",
       "      <th>ATO_DATA_REPUBLICACAO</th>\n",
       "      <th>TIPO_ATO</th>\n",
       "      <th>...</th>\n",
       "      <th>DIARIO_OFICIAL_SUPLEMENTO_NUMERO</th>\n",
       "      <th>DIARIO_OFICIAL_SUPLEMENTO_ANO</th>\n",
       "      <th>DIARIO_OFICIAL_SUPLEMENTO_DATA_PUBLICACAO</th>\n",
       "      <th>DIARIO_OFICIAL_SUPLEMENTO_STATUS</th>\n",
       "      <th>DIARIO_OFICIAL_SUPLEMENTO_TEXTO</th>\n",
       "      <th>TIPO_ATO_ZERA_NUMERACAO</th>\n",
       "      <th>TIPO_ATO_TIPO_NUMERACAO</th>\n",
       "      <th>TIPO_ATO_ORDEM_APRESENTACAO</th>\n",
       "      <th>TIPO_ATO_GRUPO</th>\n",
       "      <th>TIPO_ATO_SITUACAO</th>\n",
       "    </tr>\n",
       "  </thead>\n",
       "  <tbody>\n",
       "    <tr>\n",
       "      <th>0</th>\n",
       "      <td>--------------------</td>\n",
       "      <td>------------------------</td>\n",
       "      <td>--------------------</td>\n",
       "      <td>------------------</td>\n",
       "      <td>----------</td>\n",
       "      <td>----------------------------------------------...</td>\n",
       "      <td>----------------------------------------------...</td>\n",
       "      <td>------------------------------</td>\n",
       "      <td>----------------------------------------------...</td>\n",
       "      <td>----------------------------------------------...</td>\n",
       "      <td>...</td>\n",
       "      <td>--------------------------------</td>\n",
       "      <td>------------------------------</td>\n",
       "      <td>-----------------------------------------</td>\n",
       "      <td>--------------------------------</td>\n",
       "      <td>----------------------------------------------...</td>\n",
       "      <td>-----------------------</td>\n",
       "      <td>-----------------------</td>\n",
       "      <td>---------------------------</td>\n",
       "      <td>------------------------------</td>\n",
       "      <td>-----------------</td>\n",
       "    </tr>\n",
       "    <tr>\n",
       "      <th>1</th>\n",
       "      <td>148116</td>\n",
       "      <td>DOC148116</td>\n",
       "      <td>1922</td>\n",
       "      <td>8</td>\n",
       "      <td>1</td>\n",
       "      <td>07/12/2012 15:39:33</td>\n",
       "      <td>20/12/2012 15:36:50</td>\n",
       "      <td>20/12/2012</td>\n",
       "      <td></td>\n",
       "      <td>DECRETO</td>\n",
       "      <td>...</td>\n",
       "      <td></td>\n",
       "      <td></td>\n",
       "      <td></td>\n",
       "      <td>Fechado</td>\n",
       "      <td></td>\n",
       "      <td>SIM</td>\n",
       "      <td>Numeração Manual</td>\n",
       "      <td>53</td>\n",
       "      <td></td>\n",
       "      <td>Ativo</td>\n",
       "    </tr>\n",
       "    <tr>\n",
       "      <th>2</th>\n",
       "      <td>148118</td>\n",
       "      <td>DOC148118</td>\n",
       "      <td>730</td>\n",
       "      <td>7</td>\n",
       "      <td>1</td>\n",
       "      <td>10/12/2012 09:14:25</td>\n",
       "      <td>19/12/2012 13:11:58</td>\n",
       "      <td>19/12/2012</td>\n",
       "      <td></td>\n",
       "      <td>PORTARIA</td>\n",
       "      <td>...</td>\n",
       "      <td></td>\n",
       "      <td></td>\n",
       "      <td></td>\n",
       "      <td>Fechado</td>\n",
       "      <td></td>\n",
       "      <td>SIM</td>\n",
       "      <td>Numeração Automática</td>\n",
       "      <td>61</td>\n",
       "      <td></td>\n",
       "      <td>Ativo</td>\n",
       "    </tr>\n",
       "    <tr>\n",
       "      <th>3</th>\n",
       "      <td>148120</td>\n",
       "      <td>DOC148120</td>\n",
       "      <td>1926</td>\n",
       "      <td>2</td>\n",
       "      <td>1</td>\n",
       "      <td>10/12/2012 09:44:16</td>\n",
       "      <td>12/12/2012 16:24:20</td>\n",
       "      <td>13/12/2012</td>\n",
       "      <td></td>\n",
       "      <td>DECRETO</td>\n",
       "      <td>...</td>\n",
       "      <td></td>\n",
       "      <td></td>\n",
       "      <td></td>\n",
       "      <td>Fechado</td>\n",
       "      <td></td>\n",
       "      <td>SIM</td>\n",
       "      <td>Numeração Manual</td>\n",
       "      <td>53</td>\n",
       "      <td></td>\n",
       "      <td>Ativo</td>\n",
       "    </tr>\n",
       "    <tr>\n",
       "      <th>4</th>\n",
       "      <td>148121</td>\n",
       "      <td>DOC148121</td>\n",
       "      <td>19</td>\n",
       "      <td>1</td>\n",
       "      <td>1</td>\n",
       "      <td>10/12/2012 09:52:43</td>\n",
       "      <td>10/12/2012 17:21:51</td>\n",
       "      <td>11/12/2012</td>\n",
       "      <td></td>\n",
       "      <td>AVISO DE LICITAÇÃO</td>\n",
       "      <td>...</td>\n",
       "      <td></td>\n",
       "      <td></td>\n",
       "      <td></td>\n",
       "      <td>Fechado</td>\n",
       "      <td></td>\n",
       "      <td>SIM</td>\n",
       "      <td>Numeração Manual</td>\n",
       "      <td>4</td>\n",
       "      <td>Licitações</td>\n",
       "      <td>Ativo</td>\n",
       "    </tr>\n",
       "  </tbody>\n",
       "</table>\n",
       "<p>5 rows × 44 columns</p>\n",
       "</div>"
      ],
      "text/plain": [
       "                ATO_IDF  ATO_NUMERO_IDENTIFICACAO    ATO_NUMERO_OFICIAL  \\\n",
       "0  --------------------  ------------------------  --------------------   \n",
       "1                148116                 DOC148116                  1922   \n",
       "2                148118                 DOC148118                   730   \n",
       "3                148120                 DOC148120                  1926   \n",
       "4                148121                 DOC148121                    19   \n",
       "\n",
       "   ATO_DIARIO_OFICIAL  ATO_VERSAO  \\\n",
       "0  ------------------  ----------   \n",
       "1                   8           1   \n",
       "2                   7           1   \n",
       "3                   2           1   \n",
       "4                   1           1   \n",
       "\n",
       "                                    ATO_DATA_CRIACAO  \\\n",
       "0  ----------------------------------------------...   \n",
       "1                                07/12/2012 15:39:33   \n",
       "2                                10/12/2012 09:14:25   \n",
       "3                                10/12/2012 09:44:16   \n",
       "4                                10/12/2012 09:52:43   \n",
       "\n",
       "                                 ATO_DATA_ASSINATURA  \\\n",
       "0  ----------------------------------------------...   \n",
       "1                                20/12/2012 15:36:50   \n",
       "2                                19/12/2012 13:11:58   \n",
       "3                                12/12/2012 16:24:20   \n",
       "4                                10/12/2012 17:21:51   \n",
       "\n",
       "              ATO_DATA_PUBLICACAO  \\\n",
       "0  ------------------------------   \n",
       "1                      20/12/2012   \n",
       "2                      19/12/2012   \n",
       "3                      13/12/2012   \n",
       "4                      11/12/2012   \n",
       "\n",
       "                               ATO_DATA_REPUBLICACAO  \\\n",
       "0  ----------------------------------------------...   \n",
       "1                                                      \n",
       "2                                                      \n",
       "3                                                      \n",
       "4                                                      \n",
       "\n",
       "                                            TIPO_ATO        ...          \\\n",
       "0  ----------------------------------------------...        ...           \n",
       "1                                            DECRETO        ...           \n",
       "2                                           PORTARIA        ...           \n",
       "3                                            DECRETO        ...           \n",
       "4                                 AVISO DE LICITAÇÃO        ...           \n",
       "\n",
       "   DIARIO_OFICIAL_SUPLEMENTO_NUMERO   DIARIO_OFICIAL_SUPLEMENTO_ANO  \\\n",
       "0  --------------------------------  ------------------------------   \n",
       "1                                                                     \n",
       "2                                                                     \n",
       "3                                                                     \n",
       "4                                                                     \n",
       "\n",
       "   DIARIO_OFICIAL_SUPLEMENTO_DATA_PUBLICACAO  \\\n",
       "0  -----------------------------------------   \n",
       "1                                              \n",
       "2                                              \n",
       "3                                              \n",
       "4                                              \n",
       "\n",
       "   DIARIO_OFICIAL_SUPLEMENTO_STATUS  \\\n",
       "0  --------------------------------   \n",
       "1                           Fechado   \n",
       "2                           Fechado   \n",
       "3                           Fechado   \n",
       "4                           Fechado   \n",
       "\n",
       "                     DIARIO_OFICIAL_SUPLEMENTO_TEXTO  TIPO_ATO_ZERA_NUMERACAO  \\\n",
       "0  ----------------------------------------------...  -----------------------   \n",
       "1                                                                         SIM   \n",
       "2                                                                         SIM   \n",
       "3                                                                         SIM   \n",
       "4                                                                         SIM   \n",
       "\n",
       "   TIPO_ATO_TIPO_NUMERACAO  TIPO_ATO_ORDEM_APRESENTACAO  \\\n",
       "0  -----------------------  ---------------------------   \n",
       "1         Numeração Manual                           53   \n",
       "2     Numeração Automática                           61   \n",
       "3         Numeração Manual                           53   \n",
       "4         Numeração Manual                            4   \n",
       "\n",
       "                   TIPO_ATO_GRUPO  TIPO_ATO_SITUACAO  \n",
       "0  ------------------------------  -----------------  \n",
       "1                                              Ativo  \n",
       "2                                              Ativo  \n",
       "3                                              Ativo  \n",
       "4                      Licitações              Ativo  \n",
       "\n",
       "[5 rows x 44 columns]"
      ]
     },
     "execution_count": 23,
     "metadata": {},
     "output_type": "execute_result"
    }
   ],
   "source": [
    "test.fillna('').head()"
   ]
  },
  {
   "cell_type": "code",
   "execution_count": null,
   "metadata": {},
   "outputs": [],
   "source": []
  }
 ],
 "metadata": {
  "kernelspec": {
   "display_name": "Python 3",
   "language": "python",
   "name": "python3"
  },
  "language_info": {
   "codemirror_mode": {
    "name": "ipython",
    "version": 3
   },
   "file_extension": ".py",
   "mimetype": "text/x-python",
   "name": "python",
   "nbconvert_exporter": "python",
   "pygments_lexer": "ipython3",
   "version": "3.7.0"
  }
 },
 "nbformat": 4,
 "nbformat_minor": 2
}

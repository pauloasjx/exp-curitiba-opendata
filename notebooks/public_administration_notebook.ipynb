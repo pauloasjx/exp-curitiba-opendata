{
 "cells": [
  {
   "cell_type": "code",
   "execution_count": 1,
   "metadata": {},
   "outputs": [],
   "source": [
    "import pandas as pd\n",
    "import tqdm\n",
    "\n",
    "import re\n",
    "import requests\n",
    "from bs4 import BeautifulSoup\n",
    "\n",
    "import hashlib\n",
    "import datetime"
   ]
  },
  {
   "cell_type": "code",
   "execution_count": 2,
   "metadata": {},
   "outputs": [],
   "source": [
    "base_url = 'http://www.curitiba.pr.gov.br/dadosabertos/consulta'"
   ]
  },
  {
   "cell_type": "code",
   "execution_count": 3,
   "metadata": {},
   "outputs": [],
   "source": [
    "params = {\"grupo\":\"13\"}"
   ]
  },
  {
   "cell_type": "code",
   "execution_count": 4,
   "metadata": {},
   "outputs": [],
   "source": [
    "r = requests.get(base_url, params=params)"
   ]
  },
  {
   "cell_type": "code",
   "execution_count": 5,
   "metadata": {},
   "outputs": [],
   "source": [
    "page = BeautifulSoup(r.text, 'html.parser')"
   ]
  },
  {
   "cell_type": "code",
   "execution_count": 6,
   "metadata": {},
   "outputs": [],
   "source": [
    "__EVENTVALIDATION = page.find(\"input\", {'name': '__EVENTVALIDATION'}).get('value')"
   ]
  },
  {
   "cell_type": "code",
   "execution_count": 7,
   "metadata": {},
   "outputs": [
    {
     "data": {
      "text/plain": [
       "'/wEdAAwIu/PP9rhmFtVJtY8JFGFw4mKL5o1QRo/FpCKPmYsWJJ6M545mi+eVxYOsufjJuPs5znhzSWYfXU4ugll/AJGuS7DlCF7QoIFOF8dSWE2wXzkiLQS8NWTPNZDV80Z3AzzphndoyDFnIVED7A3KQw9cs48DT8q4XVH83r8Yw95EbJ8/8wAqn890Z+wGGuGKtYqNvjaF5GeBQ6wPsZcNPGG+vCOATgFUUjl7PbiZupqgZarqqZvleoeig3SW/qIZQc3bEKA53vmAOV75/LIJc13EmUvGzw=='"
      ]
     },
     "execution_count": 7,
     "metadata": {},
     "output_type": "execute_result"
    }
   ],
   "source": [
    "__EVENTVALIDATION"
   ]
  },
  {
   "cell_type": "code",
   "execution_count": 8,
   "metadata": {},
   "outputs": [],
   "source": [
    "__VIEWSTATE = page.find(\"input\", {'name': '__VIEWSTATE'}).get('value')"
   ]
  },
  {
   "cell_type": "code",
   "execution_count": 9,
   "metadata": {},
   "outputs": [
    {
     "data": {
      "text/plain": [
       "'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'"
      ]
     },
     "execution_count": 9,
     "metadata": {},
     "output_type": "execute_result"
    }
   ],
   "source": [
    "__VIEWSTATE"
   ]
  },
  {
   "cell_type": "code",
   "execution_count": 10,
   "metadata": {},
   "outputs": [],
   "source": [
    "pagination = page.find_all(class_='paginacao2')\n",
    "pagination = list(pagination[0].text.replace('\\n', ''))"
   ]
  },
  {
   "cell_type": "code",
   "execution_count": 11,
   "metadata": {},
   "outputs": [],
   "source": [
    "pages = \"\"\n",
    "for page in pagination:\n",
    "    data = {\n",
    "        \"__EVENTTARGET\": f\"ctl00$cphMasterPortal$ucPaginador${page}_pg{page}\",\n",
    "        \"__EVENTVALIDATION\": __EVENTVALIDATION,\n",
    "        \"__VIEWSTATE\": __VIEWSTATE\n",
    "    }\n",
    "    \n",
    "    r = requests.request(\"POST\", base_url, params=params, data=data)\n",
    "    pages = pages + r.text"
   ]
  },
  {
   "cell_type": "code",
   "execution_count": 12,
   "metadata": {},
   "outputs": [],
   "source": [
    "md5 = lambda s : hashlib.md5(s.encode('utf-8')).hexdigest()"
   ]
  },
  {
   "cell_type": "code",
   "execution_count": 13,
   "metadata": {},
   "outputs": [
    {
     "data": {
      "text/plain": [
       "'098f6bcd4621d373cade4e832627b4f6'"
      ]
     },
     "execution_count": 13,
     "metadata": {},
     "output_type": "execute_result"
    }
   ],
   "source": [
    "md5('test')"
   ]
  },
  {
   "cell_type": "code",
   "execution_count": 14,
   "metadata": {},
   "outputs": [],
   "source": [
    "a_tags = BeautifulSoup(pages, 'html.parser').find_all(id='linkArquivo')"
   ]
  },
  {
   "cell_type": "code",
   "execution_count": 15,
   "metadata": {},
   "outputs": [
    {
     "name": "stdout",
     "output_type": "stream",
     "text": [
      "58523cf9d504bccd5544356dbf6ca665\n"
     ]
    }
   ],
   "source": [
    "print(md5(a_tags[0].text))"
   ]
  },
  {
   "cell_type": "code",
   "execution_count": 16,
   "metadata": {},
   "outputs": [],
   "source": [
    "date_regex = re.compile('\\d{4}-\\d{2}-\\d{2}')"
   ]
  },
  {
   "cell_type": "code",
   "execution_count": 17,
   "metadata": {},
   "outputs": [
    {
     "data": {
      "text/plain": [
       "datetime.date(2018, 10, 10)"
      ]
     },
     "execution_count": 17,
     "metadata": {},
     "output_type": "execute_result"
    }
   ],
   "source": [
    "date_string = date_regex.search('//multimidia.curitiba.pr.gov.br/dadosabertos/SESPAMedicoUnidadesMunicipaisDeSaude/2018-10-10_Sistema_E-Saude_Medicos_-_Base_de_Dados.csv').group()\n",
    "date = datetime.date(*map(int, date_string.split('-')))\n",
    "date\n"
   ]
  },
  {
   "cell_type": "code",
   "execution_count": 18,
   "metadata": {},
   "outputs": [
    {
     "name": "stderr",
     "output_type": "stream",
     "text": [
      "100%|██████████| 7/7 [00:00<00:00, 5372.39it/s]\n"
     ]
    }
   ],
   "source": [
    "databases = []\n",
    "for a_tag in tqdm.tqdm(a_tags):\n",
    "    database_link = a_tag.get('href')[2:]\n",
    "    \n",
    "    if database_link[-4:] == '.csv':\n",
    "        database_id = md5(a_tag.text)\n",
    "        database_title = a_tag.text\n",
    "\n",
    "        database_date_string = date_regex.search(database_link).group()\n",
    "        database_date = datetime.date(*map(int, database_date_string.split('-')))\n",
    "\n",
    "        database = {\n",
    "            'database_id': database_id,\n",
    "            'database_title': database_title,\n",
    "            'database_link': database_link,\n",
    "            'database_date': database_date\n",
    "        }\n",
    "        \n",
    "        databases.append(database)"
   ]
  },
  {
   "cell_type": "code",
   "execution_count": 19,
   "metadata": {},
   "outputs": [
    {
     "data": {
      "text/plain": [
       "[{'database_id': '58523cf9d504bccd5544356dbf6ca665',\n",
       "  'database_title': 'imapaprendere - Base de Dados',\n",
       "  'database_link': 'multimidia.curitiba.pr.gov.br/dadosabertos/IMAPAprendere/2018-10-01_imapaprendere_-_Base_de_Dados.csv',\n",
       "  'database_date': datetime.date(2018, 10, 1)}]"
      ]
     },
     "execution_count": 19,
     "metadata": {},
     "output_type": "execute_result"
    }
   ],
   "source": [
    "databases"
   ]
  },
  {
   "cell_type": "code",
   "execution_count": 21,
   "metadata": {},
   "outputs": [
    {
     "name": "stderr",
     "output_type": "stream",
     "text": [
      "b'Skipping line 5201: expected 7 fields, saw 8\\nSkipping line 7664: expected 7 fields, saw 8\\nSkipping line 8502: expected 7 fields, saw 8\\nSkipping line 9955: expected 7 fields, saw 8\\nSkipping line 9960: expected 7 fields, saw 8\\nSkipping line 10060: expected 7 fields, saw 8\\nSkipping line 10085: expected 7 fields, saw 8\\nSkipping line 10128: expected 7 fields, saw 8\\nSkipping line 10199: expected 7 fields, saw 8\\n'\n"
     ]
    }
   ],
   "source": [
    "test = pd.read_csv('http://multimidia.curitiba.pr.gov.br/dadosabertos/IMAPAprendere/2018-10-01_imapaprendere_-_Base_de_Dados.csv', encoding=\"ISO-8859-1\", delimiter=';', error_bad_lines=False)"
   ]
  },
  {
   "cell_type": "code",
   "execution_count": 22,
   "metadata": {},
   "outputs": [
    {
     "data": {
      "text/html": [
       "<div>\n",
       "<style scoped>\n",
       "    .dataframe tbody tr th:only-of-type {\n",
       "        vertical-align: middle;\n",
       "    }\n",
       "\n",
       "    .dataframe tbody tr th {\n",
       "        vertical-align: top;\n",
       "    }\n",
       "\n",
       "    .dataframe thead th {\n",
       "        text-align: right;\n",
       "    }\n",
       "</style>\n",
       "<table border=\"1\" class=\"dataframe\">\n",
       "  <thead>\n",
       "    <tr style=\"text-align: right;\">\n",
       "      <th></th>\n",
       "      <th>ORGAO</th>\n",
       "      <th>CURSO</th>\n",
       "      <th>ANO_EXECUCAO</th>\n",
       "      <th>AREA_TEMATICA</th>\n",
       "      <th>CARGA_HORARIA</th>\n",
       "      <th>TOTAL_INSCRITOS</th>\n",
       "      <th>TOTAL_CERTIFICADOS</th>\n",
       "    </tr>\n",
       "  </thead>\n",
       "  <tbody>\n",
       "    <tr>\n",
       "      <th>0</th>\n",
       "      <td>------</td>\n",
       "      <td>-----</td>\n",
       "      <td>------------</td>\n",
       "      <td>-------------</td>\n",
       "      <td>-------------</td>\n",
       "      <td>---------------</td>\n",
       "      <td>------------------</td>\n",
       "    </tr>\n",
       "    <tr>\n",
       "      <th>1</th>\n",
       "      <td>INSTITUTO MUNICIPAL DE ADMINISTRAÇÃO PÚBLICA</td>\n",
       "      <td>5S - A base para a qualidade</td>\n",
       "      <td>2008</td>\n",
       "      <td>GESTÃO DE PESSOAS</td>\n",
       "      <td>4</td>\n",
       "      <td>2118</td>\n",
       "      <td>1717</td>\n",
       "    </tr>\n",
       "    <tr>\n",
       "      <th>2</th>\n",
       "      <td>INSTITUTO MUNICIPAL DE ADMINISTRAÇÃO PÚBLICA</td>\n",
       "      <td>A Arte da Guerra. Estratégias de Sucesso para ...</td>\n",
       "      <td>2008</td>\n",
       "      <td>TECNOLOGIA DA INFORMAÇÃO E DA COMUNICAÇÃO</td>\n",
       "      <td>4</td>\n",
       "      <td>78</td>\n",
       "      <td>54</td>\n",
       "    </tr>\n",
       "    <tr>\n",
       "      <th>3</th>\n",
       "      <td>INSTITUTO MUNICIPAL DE ADMINISTRAÇÃO PÚBLICA</td>\n",
       "      <td>A arte de falar em público</td>\n",
       "      <td>2008</td>\n",
       "      <td>GESTÃO DE PESSOAS</td>\n",
       "      <td>8</td>\n",
       "      <td>202</td>\n",
       "      <td>122</td>\n",
       "    </tr>\n",
       "    <tr>\n",
       "      <th>4</th>\n",
       "      <td>INSTITUTO MUNICIPAL DE ADMINISTRAÇÃO PÚBLICA</td>\n",
       "      <td>A AVALIAÇÃO NA GESTÃO EM REDE DE PROJETOS SOCIAIS</td>\n",
       "      <td>2008</td>\n",
       "      <td>INOVAÇÃO SOCIAL</td>\n",
       "      <td>4</td>\n",
       "      <td>142</td>\n",
       "      <td>140</td>\n",
       "    </tr>\n",
       "  </tbody>\n",
       "</table>\n",
       "</div>"
      ],
      "text/plain": [
       "                                          ORGAO  \\\n",
       "0                                        ------   \n",
       "1  INSTITUTO MUNICIPAL DE ADMINISTRAÇÃO PÚBLICA   \n",
       "2  INSTITUTO MUNICIPAL DE ADMINISTRAÇÃO PÚBLICA   \n",
       "3  INSTITUTO MUNICIPAL DE ADMINISTRAÇÃO PÚBLICA   \n",
       "4  INSTITUTO MUNICIPAL DE ADMINISTRAÇÃO PÚBLICA   \n",
       "\n",
       "                                               CURSO  ANO_EXECUCAO  \\\n",
       "0                                              -----  ------------   \n",
       "1                       5S - A base para a qualidade          2008   \n",
       "2  A Arte da Guerra. Estratégias de Sucesso para ...          2008   \n",
       "3                         A arte de falar em público          2008   \n",
       "4  A AVALIAÇÃO NA GESTÃO EM REDE DE PROJETOS SOCIAIS          2008   \n",
       "\n",
       "                               AREA_TEMATICA  CARGA_HORARIA  TOTAL_INSCRITOS  \\\n",
       "0                              -------------  -------------  ---------------   \n",
       "1                          GESTÃO DE PESSOAS              4             2118   \n",
       "2  TECNOLOGIA DA INFORMAÇÃO E DA COMUNICAÇÃO              4               78   \n",
       "3                          GESTÃO DE PESSOAS              8              202   \n",
       "4                            INOVAÇÃO SOCIAL              4              142   \n",
       "\n",
       "   TOTAL_CERTIFICADOS  \n",
       "0  ------------------  \n",
       "1                1717  \n",
       "2                  54  \n",
       "3                 122  \n",
       "4                 140  "
      ]
     },
     "execution_count": 22,
     "metadata": {},
     "output_type": "execute_result"
    }
   ],
   "source": [
    "test.fillna('').head()"
   ]
  },
  {
   "cell_type": "code",
   "execution_count": null,
   "metadata": {},
   "outputs": [],
   "source": []
  }
 ],
 "metadata": {
  "kernelspec": {
   "display_name": "Python 3",
   "language": "python",
   "name": "python3"
  },
  "language_info": {
   "codemirror_mode": {
    "name": "ipython",
    "version": 3
   },
   "file_extension": ".py",
   "mimetype": "text/x-python",
   "name": "python",
   "nbconvert_exporter": "python",
   "pygments_lexer": "ipython3",
   "version": "3.7.0"
  }
 },
 "nbformat": 4,
 "nbformat_minor": 2
}

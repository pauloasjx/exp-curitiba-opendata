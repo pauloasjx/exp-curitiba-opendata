{
 "cells": [
  {
   "cell_type": "code",
   "execution_count": 35,
   "metadata": {},
   "outputs": [],
   "source": [
    "import pandas as pd\n",
    "import tqdm\n",
    "\n",
    "import re\n",
    "import requests\n",
    "from bs4 import BeautifulSoup\n",
    "\n",
    "import hashlib\n",
    "import datetime"
   ]
  },
  {
   "cell_type": "code",
   "execution_count": 36,
   "metadata": {},
   "outputs": [],
   "source": [
    "base_url = 'http://www.curitiba.pr.gov.br/dadosabertos/consulta'"
   ]
  },
  {
   "cell_type": "code",
   "execution_count": 37,
   "metadata": {},
   "outputs": [],
   "source": [
    "params = {\"grupo\":\"6\"}"
   ]
  },
  {
   "cell_type": "code",
   "execution_count": 38,
   "metadata": {},
   "outputs": [],
   "source": [
    "r = requests.get(base_url, params=params)"
   ]
  },
  {
   "cell_type": "code",
   "execution_count": 39,
   "metadata": {},
   "outputs": [],
   "source": [
    "page = BeautifulSoup(r.text, 'html.parser')"
   ]
  },
  {
   "cell_type": "code",
   "execution_count": 40,
   "metadata": {},
   "outputs": [],
   "source": [
    "__EVENTVALIDATION = page.find(\"input\", {'name': '__EVENTVALIDATION'}).get('value')"
   ]
  },
  {
   "cell_type": "code",
   "execution_count": 41,
   "metadata": {},
   "outputs": [
    {
     "data": {
      "text/plain": [
       "'/wEdAAyYl2S6HDpGvRuNDj3CpFyB4mKL5o1QRo/FpCKPmYsWJJ6M545mi+eVxYOsufjJuPs5znhzSWYfXU4ugll/AJGuS7DlCF7QoIFOF8dSWE2wXzkiLQS8NWTPNZDV80Z3AzzphndoyDFnIVED7A3KQw9cs48DT8q4XVH83r8Yw95EbJ8/8wAqn890Z+wGGuGKtYqNvjaF5GeBQ6wPsZcNPGG+vCOATgFUUjl7PbiZupqgZarqqZvleoeig3SW/qIZQc2VVgq8PeUc/LZYZGEW+0jICJhbQQ=='"
      ]
     },
     "execution_count": 41,
     "metadata": {},
     "output_type": "execute_result"
    }
   ],
   "source": [
    "__EVENTVALIDATION"
   ]
  },
  {
   "cell_type": "code",
   "execution_count": 42,
   "metadata": {},
   "outputs": [],
   "source": [
    "__VIEWSTATE = page.find(\"input\", {'name': '__VIEWSTATE'}).get('value')"
   ]
  },
  {
   "cell_type": "code",
   "execution_count": 43,
   "metadata": {},
   "outputs": [
    {
     "data": {
      "text/plain": [
       "'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'"
      ]
     },
     "execution_count": 43,
     "metadata": {},
     "output_type": "execute_result"
    }
   ],
   "source": [
    "__VIEWSTATE"
   ]
  },
  {
   "cell_type": "code",
   "execution_count": 44,
   "metadata": {},
   "outputs": [],
   "source": [
    "pagination = page.find_all(class_='paginacao2')\n",
    "pagination = list(pagination[0].text.replace('\\n', ''))"
   ]
  },
  {
   "cell_type": "code",
   "execution_count": 45,
   "metadata": {},
   "outputs": [],
   "source": [
    "pages = \"\"\n",
    "for page in pagination:\n",
    "    data = {\n",
    "        \"__EVENTTARGET\": f\"ctl00$cphMasterPortal$ucPaginador${page}_pg{page}\",\n",
    "        \"__EVENTVALIDATION\": __EVENTVALIDATION,\n",
    "        \"__VIEWSTATE\": __VIEWSTATE\n",
    "    }\n",
    "    \n",
    "    r = requests.request(\"POST\", base_url, params=params, data=data)\n",
    "    pages = pages + r.text"
   ]
  },
  {
   "cell_type": "code",
   "execution_count": 46,
   "metadata": {},
   "outputs": [],
   "source": [
    "md5 = lambda s : hashlib.md5(s.encode('utf-8')).hexdigest()"
   ]
  },
  {
   "cell_type": "code",
   "execution_count": 47,
   "metadata": {},
   "outputs": [
    {
     "data": {
      "text/plain": [
       "'098f6bcd4621d373cade4e832627b4f6'"
      ]
     },
     "execution_count": 47,
     "metadata": {},
     "output_type": "execute_result"
    }
   ],
   "source": [
    "md5('test')"
   ]
  },
  {
   "cell_type": "code",
   "execution_count": 48,
   "metadata": {},
   "outputs": [],
   "source": [
    "a_tags = BeautifulSoup(pages, 'html.parser').find_all(id='linkArquivo')"
   ]
  },
  {
   "cell_type": "code",
   "execution_count": 49,
   "metadata": {},
   "outputs": [
    {
     "name": "stdout",
     "output_type": "stream",
     "text": [
      "2d1c91001f68cea6a00114f40f12a5a0\n"
     ]
    }
   ],
   "source": [
    "print(md5(a_tags[0].text))"
   ]
  },
  {
   "cell_type": "code",
   "execution_count": 50,
   "metadata": {},
   "outputs": [],
   "source": [
    "date_regex = re.compile('\\d{4}-\\d{2}-\\d{2}')"
   ]
  },
  {
   "cell_type": "code",
   "execution_count": 51,
   "metadata": {},
   "outputs": [
    {
     "data": {
      "text/plain": [
       "datetime.date(2018, 10, 10)"
      ]
     },
     "execution_count": 51,
     "metadata": {},
     "output_type": "execute_result"
    }
   ],
   "source": [
    "date_string = date_regex.search('//multimidia.curitiba.pr.gov.br/dadosabertos/SESPAMedicoUnidadesMunicipaisDeSaude/2018-10-10_Sistema_E-Saude_Medicos_-_Base_de_Dados.csv').group()\n",
    "date = datetime.date(*map(int, date_string.split('-')))\n",
    "date\n"
   ]
  },
  {
   "cell_type": "code",
   "execution_count": 52,
   "metadata": {},
   "outputs": [
    {
     "name": "stderr",
     "output_type": "stream",
     "text": [
      "100%|██████████| 46/46 [00:00<00:00, 39552.68it/s]\n"
     ]
    }
   ],
   "source": [
    "databases = []\n",
    "for a_tag in tqdm.tqdm(a_tags):\n",
    "    database_link = a_tag.get('href')[2:]\n",
    "    \n",
    "    if database_link[-4:] == '.csv':\n",
    "        database_id = md5(a_tag.text)\n",
    "        database_title = a_tag.text\n",
    "\n",
    "        database_date_string = date_regex.search(database_link).group()\n",
    "        database_date = datetime.date(*map(int, database_date_string.split('-')))\n",
    "\n",
    "        database = {\n",
    "            'database_id': database_id,\n",
    "            'database_title': database_title,\n",
    "            'database_link': database_link,\n",
    "            'database_date': database_date\n",
    "        }\n",
    "        \n",
    "        databases.append(database)"
   ]
  },
  {
   "cell_type": "code",
   "execution_count": 53,
   "metadata": {},
   "outputs": [
    {
     "data": {
      "text/plain": [
       "[{'database_id': '2d1c91001f68cea6a00114f40f12a5a0',\n",
       "  'database_title': 'Oficina de Musica - Categoria Nucleo - Base de Dados',\n",
       "  'database_link': 'multimidia.curitiba.pr.gov.br/dadosabertos/OficinaMusica/2018-03-01_Oficina_de_Musica_-_Categoria_Nucleo_-_Base_de_Dados.csv',\n",
       "  'database_date': datetime.date(2018, 3, 1)},\n",
       " {'database_id': '3980d747bc21fca2e6b89276189cedd0',\n",
       "  'database_title': 'Oficina de Musica - Curso - Base de Dados',\n",
       "  'database_link': 'multimidia.curitiba.pr.gov.br/dadosabertos/OficinaMusica/2018-03-01_Oficina_de_Musica_-_Curso_-_Base_de_Dados.csv',\n",
       "  'database_date': datetime.date(2018, 3, 1)},\n",
       " {'database_id': 'd05dbc3b7fe240cbcba64dab1bc98ff7',\n",
       "  'database_title': 'Oficina de Musica - Espaco - Base de Dados',\n",
       "  'database_link': 'multimidia.curitiba.pr.gov.br/dadosabertos/OficinaMusica/2018-03-01_Oficina_de_Musica_-_Espaco_-_Base_de_Dados.csv',\n",
       "  'database_date': datetime.date(2018, 3, 1)},\n",
       " {'database_id': 'fc8c0be0b3306e1f8999892cc009ff58',\n",
       "  'database_title': 'Oficina de Musica - Evento - Base de Dados',\n",
       "  'database_link': 'multimidia.curitiba.pr.gov.br/dadosabertos/OficinaMusica/2018-03-01_Oficina_de_Musica_-_Evento_-_Base_de_Dados.csv',\n",
       "  'database_date': datetime.date(2018, 3, 1)},\n",
       " {'database_id': 'd4461be0b6d5d7b87ecce9461346e270',\n",
       "  'database_title': 'Oficina de Musica - Nucleo - Base de Dados',\n",
       "  'database_link': 'multimidia.curitiba.pr.gov.br/dadosabertos/OficinaMusica/2018-03-01_Oficina_de_Musica_-_Nucleo_-_Base_de_Dados.csv',\n",
       "  'database_date': datetime.date(2018, 3, 1)},\n",
       " {'database_id': '3140fed903c9d3ed4b6c66b8a963c113',\n",
       "  'database_title': 'Oficina de Musica - Oficina - Base de Dados',\n",
       "  'database_link': 'multimidia.curitiba.pr.gov.br/dadosabertos/OficinaMusica/2018-03-01_Oficina_de_Musica_-_Oficina_-_Base_de_Dados.csv',\n",
       "  'database_date': datetime.date(2018, 3, 1)},\n",
       " {'database_id': 'a1b7112e8949631ca03e631e7d9eaf6a',\n",
       "  'database_title': 'Oficina de Musica - Professor - Base de Dados',\n",
       "  'database_link': 'multimidia.curitiba.pr.gov.br/dadosabertos/OficinaMusica/2018-03-01_Oficina_de_Musica_-_Professor_-_Base_de_Dados.csv',\n",
       "  'database_date': datetime.date(2018, 3, 1)},\n",
       " {'database_id': '3a30afd64617bc4a4df807b5393a8e61',\n",
       "  'database_title': 'Oficina de Musica - Turma - Base de Dados',\n",
       "  'database_link': 'multimidia.curitiba.pr.gov.br/dadosabertos/OficinaMusica/2018-03-01_Oficina_de_Musica_-_Turma_-_Base_de_Dados.csv',\n",
       "  'database_date': datetime.date(2018, 3, 1)},\n",
       " {'database_id': '883f87b5391b93bfd181ecb7ed1dd688',\n",
       "  'database_title': 'Fundacao Cultural - Area - Base de Dados',\n",
       "  'database_link': 'multimidia.curitiba.pr.gov.br/dadosabertos/FundacaoCultural/2018-10-01_Fundacao_Cultural_-_Area_-_Base_de_Dados.csv',\n",
       "  'database_date': datetime.date(2018, 10, 1)},\n",
       " {'database_id': 'ad61f7b5429a3791e2b3bc34b35601fc',\n",
       "  'database_title': 'Fundacao Cultural - Bairro - Base de Dados',\n",
       "  'database_link': 'multimidia.curitiba.pr.gov.br/dadosabertos/FundacaoCultural/2018-10-01_Fundacao_Cultural_-_Bairro_-_Base_de_Dados.csv',\n",
       "  'database_date': datetime.date(2018, 10, 1)},\n",
       " {'database_id': '4ce69fb54435e4827cb990a5cec93740',\n",
       "  'database_title': 'Fundacao Cultural - Categoria Lei do Incentivo - Base de Dados',\n",
       "  'database_link': 'multimidia.curitiba.pr.gov.br/dadosabertos/FundacaoCultural/2018-10-01_Fundacao_Cultural_-_Categoria_Lei_do_Incentivo_-_Base_de_Dados.csv',\n",
       "  'database_date': datetime.date(2018, 10, 1)},\n",
       " {'database_id': 'c8ca278a504d09dd7b7acfd691e1cc37',\n",
       "  'database_title': 'Fundacao Cultural - Conteudo Lei do Incentivo - Base de Dados',\n",
       "  'database_link': 'multimidia.curitiba.pr.gov.br/dadosabertos/FundacaoCultural/2018-10-01_Fundacao_Cultural_-_Conteudo_Lei_do_Incentivo_-_Base_de_Dados.csv',\n",
       "  'database_date': datetime.date(2018, 10, 1)},\n",
       " {'database_id': 'cb8598fe2cc5a5b0d69b61ebd1d71788',\n",
       "  'database_title': 'Fundacao Cultural - Curso - Base de Dados',\n",
       "  'database_link': 'multimidia.curitiba.pr.gov.br/dadosabertos/FundacaoCultural/2018-10-01_Fundacao_Cultural_-_Curso_-_Base_de_Dados.csv',\n",
       "  'database_date': datetime.date(2018, 10, 1)},\n",
       " {'database_id': '7b7acbefe17b14c82e625e64d108cce2',\n",
       "  'database_title': 'Fundacao Cultural - Edital - Base de Dados',\n",
       "  'database_link': 'multimidia.curitiba.pr.gov.br/dadosabertos/FundacaoCultural/2018-10-01_Fundacao_Cultural_-_Edital_-_Base_de_Dados.csv',\n",
       "  'database_date': datetime.date(2018, 10, 1)},\n",
       " {'database_id': '257589b77139d3b6f82d772e08b5c6a3',\n",
       "  'database_title': 'Fundacao Cultural - Endereco - Base de Dados',\n",
       "  'database_link': 'multimidia.curitiba.pr.gov.br/dadosabertos/FundacaoCultural/2018-10-01_Fundacao_Cultural_-_Endereco_-_Base_de_Dados.csv',\n",
       "  'database_date': datetime.date(2018, 10, 1)},\n",
       " {'database_id': '2a876108db270dc8f3142428fe1c4a2b',\n",
       "  'database_title': 'Fundacao Cultural - Espaco - Base de Dados',\n",
       "  'database_link': 'multimidia.curitiba.pr.gov.br/dadosabertos/FundacaoCultural/2018-10-01_Fundacao_Cultural_-_Espaco_-_Base_de_Dados.csv',\n",
       "  'database_date': datetime.date(2018, 10, 1)},\n",
       " {'database_id': '8280bf1bf0c01bdc56cb6abe67657bc7',\n",
       "  'database_title': 'Fundacao Cultural - Evento - Base de Dados',\n",
       "  'database_link': 'multimidia.curitiba.pr.gov.br/dadosabertos/FundacaoCultural/2018-10-01_Fundacao_Cultural_-_Evento_-_Base_de_Dados.csv',\n",
       "  'database_date': datetime.date(2018, 10, 1)},\n",
       " {'database_id': 'd8840a1e2f27c904822d194ac7e3e983',\n",
       "  'database_title': 'Fundacao Cultural - Evento Data - Base de Dados',\n",
       "  'database_link': 'multimidia.curitiba.pr.gov.br/dadosabertos/FundacaoCultural/2018-10-01_Fundacao_Cultural_-_Evento_Data_-_Base_de_Dados.csv',\n",
       "  'database_date': datetime.date(2018, 10, 1)},\n",
       " {'database_id': '5ea9ecd03be664dc9161884b9f5a8153',\n",
       "  'database_title': 'Fundacao Cultural - Formulario - Base de Dados',\n",
       "  'database_link': 'multimidia.curitiba.pr.gov.br/dadosabertos/FundacaoCultural/2018-10-01_Fundacao_Cultural_-_Formulario_-_Base_de_Dados.csv',\n",
       "  'database_date': datetime.date(2018, 10, 1)},\n",
       " {'database_id': 'ea3ff7b9aeb2281b743dbc70a4d844da',\n",
       "  'database_title': 'Fundacao Cultural - Formulario Campo - Base de Dados',\n",
       "  'database_link': 'multimidia.curitiba.pr.gov.br/dadosabertos/FundacaoCultural/2018-10-01_Fundacao_Cultural_-_Formulario_Campo_-_Base_de_Dados.csv',\n",
       "  'database_date': datetime.date(2018, 10, 1)},\n",
       " {'database_id': '96e4678276665ef7d7ef51ce6349ea21',\n",
       "  'database_title': 'Fundacao Cultural - Nucleo - Base de Dados',\n",
       "  'database_link': 'multimidia.curitiba.pr.gov.br/dadosabertos/FundacaoCultural/2018-10-01_Fundacao_Cultural_-_Nucleo_-_Base_de_Dados.csv',\n",
       "  'database_date': datetime.date(2018, 10, 1)}]"
      ]
     },
     "execution_count": 53,
     "metadata": {},
     "output_type": "execute_result"
    }
   ],
   "source": [
    "databases"
   ]
  },
  {
   "cell_type": "code",
   "execution_count": 58,
   "metadata": {},
   "outputs": [],
   "source": [
    "test = pd.read_csv('http://multimidia.curitiba.pr.gov.br/dadosabertos/OficinaMusica/2018-03-01_Oficina_de_Musica_-_Categoria_Nucleo_-_Base_de_Dados.csv', encoding=\"ISO-8859-1\", delimiter=';')"
   ]
  },
  {
   "cell_type": "code",
   "execution_count": 59,
   "metadata": {},
   "outputs": [
    {
     "data": {
      "text/html": [
       "<div>\n",
       "<style scoped>\n",
       "    .dataframe tbody tr th:only-of-type {\n",
       "        vertical-align: middle;\n",
       "    }\n",
       "\n",
       "    .dataframe tbody tr th {\n",
       "        vertical-align: top;\n",
       "    }\n",
       "\n",
       "    .dataframe thead th {\n",
       "        text-align: right;\n",
       "    }\n",
       "</style>\n",
       "<table border=\"1\" class=\"dataframe\">\n",
       "  <thead>\n",
       "    <tr style=\"text-align: right;\">\n",
       "      <th></th>\n",
       "      <th>CNU_IDF</th>\n",
       "      <th>CNU_TITULO</th>\n",
       "      <th>CNU_SITUACAO</th>\n",
       "    </tr>\n",
       "  </thead>\n",
       "  <tbody>\n",
       "    <tr>\n",
       "      <th>0</th>\n",
       "      <td>-------</td>\n",
       "      <td>----------</td>\n",
       "      <td>------------</td>\n",
       "    </tr>\n",
       "  </tbody>\n",
       "</table>\n",
       "</div>"
      ],
      "text/plain": [
       "   CNU_IDF  CNU_TITULO  CNU_SITUACAO\n",
       "0  -------  ----------  ------------"
      ]
     },
     "execution_count": 59,
     "metadata": {},
     "output_type": "execute_result"
    }
   ],
   "source": [
    "test.fillna('').head()"
   ]
  },
  {
   "cell_type": "code",
   "execution_count": null,
   "metadata": {},
   "outputs": [],
   "source": []
  }
 ],
 "metadata": {
  "kernelspec": {
   "display_name": "Python 3",
   "language": "python",
   "name": "python3"
  },
  "language_info": {
   "codemirror_mode": {
    "name": "ipython",
    "version": 3
   },
   "file_extension": ".py",
   "mimetype": "text/x-python",
   "name": "python",
   "nbconvert_exporter": "python",
   "pygments_lexer": "ipython3",
   "version": "3.7.0"
  }
 },
 "nbformat": 4,
 "nbformat_minor": 2
}

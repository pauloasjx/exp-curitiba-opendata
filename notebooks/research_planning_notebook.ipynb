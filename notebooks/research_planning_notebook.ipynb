{
 "cells": [
  {
   "cell_type": "code",
   "execution_count": 1,
   "metadata": {},
   "outputs": [],
   "source": [
    "import pandas as pd\n",
    "import tqdm\n",
    "\n",
    "import re\n",
    "import requests\n",
    "from bs4 import BeautifulSoup\n",
    "\n",
    "import hashlib\n",
    "import datetime"
   ]
  },
  {
   "cell_type": "code",
   "execution_count": 2,
   "metadata": {},
   "outputs": [],
   "source": [
    "base_url = 'http://www.curitiba.pr.gov.br/dadosabertos/consulta'"
   ]
  },
  {
   "cell_type": "code",
   "execution_count": 3,
   "metadata": {},
   "outputs": [],
   "source": [
    "params = {\"grupo\":\"10\"}"
   ]
  },
  {
   "cell_type": "code",
   "execution_count": 4,
   "metadata": {},
   "outputs": [],
   "source": [
    "r = requests.get(base_url, params=params)"
   ]
  },
  {
   "cell_type": "code",
   "execution_count": 5,
   "metadata": {},
   "outputs": [],
   "source": [
    "page = BeautifulSoup(r.text, 'html.parser')"
   ]
  },
  {
   "cell_type": "code",
   "execution_count": 6,
   "metadata": {},
   "outputs": [],
   "source": [
    "__EVENTVALIDATION = page.find(\"input\", {'name': '__EVENTVALIDATION'}).get('value')"
   ]
  },
  {
   "cell_type": "code",
   "execution_count": 7,
   "metadata": {},
   "outputs": [
    {
     "data": {
      "text/plain": [
       "'/wEdAAy3A5BrTqdQW7Ts7AUWfgtT4mKL5o1QRo/FpCKPmYsWJJ6M545mi+eVxYOsufjJuPs5znhzSWYfXU4ugll/AJGuS7DlCF7QoIFOF8dSWE2wXzkiLQS8NWTPNZDV80Z3AzzphndoyDFnIVED7A3KQw9cs48DT8q4XVH83r8Yw95EbJ8/8wAqn890Z+wGGuGKtYqNvjaF5GeBQ6wPsZcNPGG+vCOATgFUUjl7PbiZupqgZarqqZvleoeig3SW/qIZQc3rX1c6SCEekGomAC95lda57M1mGA=='"
      ]
     },
     "execution_count": 7,
     "metadata": {},
     "output_type": "execute_result"
    }
   ],
   "source": [
    "__EVENTVALIDATION"
   ]
  },
  {
   "cell_type": "code",
   "execution_count": 8,
   "metadata": {},
   "outputs": [],
   "source": [
    "__VIEWSTATE = page.find(\"input\", {'name': '__VIEWSTATE'}).get('value')"
   ]
  },
  {
   "cell_type": "code",
   "execution_count": 9,
   "metadata": {},
   "outputs": [
    {
     "data": {
      "text/plain": [
       "'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'"
      ]
     },
     "execution_count": 9,
     "metadata": {},
     "output_type": "execute_result"
    }
   ],
   "source": [
    "__VIEWSTATE"
   ]
  },
  {
   "cell_type": "code",
   "execution_count": 10,
   "metadata": {},
   "outputs": [],
   "source": [
    "pagination = page.find_all(class_='paginacao2')\n",
    "pagination = list(pagination[0].text.replace('\\n', ''))"
   ]
  },
  {
   "cell_type": "code",
   "execution_count": 11,
   "metadata": {},
   "outputs": [],
   "source": [
    "pages = \"\"\n",
    "for page in pagination:\n",
    "    data = {\n",
    "        \"__EVENTTARGET\": f\"ctl00$cphMasterPortal$ucPaginador${page}_pg{page}\",\n",
    "        \"__EVENTVALIDATION\": __EVENTVALIDATION,\n",
    "        \"__VIEWSTATE\": __VIEWSTATE\n",
    "    }\n",
    "    \n",
    "    r = requests.request(\"POST\", base_url, params=params, data=data)\n",
    "    pages = pages + r.text"
   ]
  },
  {
   "cell_type": "code",
   "execution_count": 12,
   "metadata": {},
   "outputs": [],
   "source": [
    "md5 = lambda s : hashlib.md5(s.encode('utf-8')).hexdigest()"
   ]
  },
  {
   "cell_type": "code",
   "execution_count": 13,
   "metadata": {},
   "outputs": [
    {
     "data": {
      "text/plain": [
       "'098f6bcd4621d373cade4e832627b4f6'"
      ]
     },
     "execution_count": 13,
     "metadata": {},
     "output_type": "execute_result"
    }
   ],
   "source": [
    "md5('test')"
   ]
  },
  {
   "cell_type": "code",
   "execution_count": 14,
   "metadata": {},
   "outputs": [],
   "source": [
    "a_tags = BeautifulSoup(pages, 'html.parser').find_all(id='linkArquivo')"
   ]
  },
  {
   "cell_type": "code",
   "execution_count": 15,
   "metadata": {},
   "outputs": [
    {
     "name": "stdout",
     "output_type": "stream",
     "text": [
      "43b75d2946867b038517b32edd29fc20\n"
     ]
    }
   ],
   "source": [
    "print(md5(a_tags[0].text))"
   ]
  },
  {
   "cell_type": "code",
   "execution_count": 16,
   "metadata": {},
   "outputs": [],
   "source": [
    "date_regex = re.compile('\\d{4}-\\d{2}-\\d{2}')"
   ]
  },
  {
   "cell_type": "code",
   "execution_count": 17,
   "metadata": {},
   "outputs": [
    {
     "data": {
      "text/plain": [
       "datetime.date(2018, 10, 10)"
      ]
     },
     "execution_count": 17,
     "metadata": {},
     "output_type": "execute_result"
    }
   ],
   "source": [
    "date_string = date_regex.search('//multimidia.curitiba.pr.gov.br/dadosabertos/SESPAMedicoUnidadesMunicipaisDeSaude/2018-10-10_Sistema_E-Saude_Medicos_-_Base_de_Dados.csv').group()\n",
    "date = datetime.date(*map(int, date_string.split('-')))\n",
    "date\n"
   ]
  },
  {
   "cell_type": "code",
   "execution_count": 18,
   "metadata": {},
   "outputs": [
    {
     "name": "stderr",
     "output_type": "stream",
     "text": [
      "100%|██████████| 5/5 [00:00<00:00, 9957.99it/s]\n"
     ]
    }
   ],
   "source": [
    "databases = []\n",
    "for a_tag in tqdm.tqdm(a_tags):\n",
    "    database_link = a_tag.get('href')[2:]\n",
    "    \n",
    "    if database_link[-4:] == '.csv':\n",
    "        database_id = md5(a_tag.text)\n",
    "        database_title = a_tag.text\n",
    "\n",
    "        database_date_string = date_regex.search(database_link).group()\n",
    "        database_date = datetime.date(*map(int, database_date_string.split('-')))\n",
    "\n",
    "        database = {\n",
    "            'database_id': database_id,\n",
    "            'database_title': database_title,\n",
    "            'database_link': database_link,\n",
    "            'database_date': database_date\n",
    "        }\n",
    "        \n",
    "        databases.append(database)"
   ]
  },
  {
   "cell_type": "code",
   "execution_count": 19,
   "metadata": {},
   "outputs": [
    {
     "data": {
      "text/plain": [
       "[{'database_id': '43b75d2946867b038517b32edd29fc20',\n",
       "  'database_title': 'Unidades Atendimento Ativas Curitiba - Base de Dados',\n",
       "  'database_link': 'multimidia.curitiba.pr.gov.br/dadosabertos/UnidadesAtendimentoCuritiba/2018-10-09_Unidades_Atendimento_Ativas_Curitiba_-_Base_de_Dados.csv',\n",
       "  'database_date': datetime.date(2018, 10, 9)}]"
      ]
     },
     "execution_count": 19,
     "metadata": {},
     "output_type": "execute_result"
    }
   ],
   "source": [
    "databases"
   ]
  },
  {
   "cell_type": "code",
   "execution_count": 26,
   "metadata": {},
   "outputs": [],
   "source": [
    "test = pd.read_csv('http://multimidia.curitiba.pr.gov.br/dadosabertos/UnidadesAtendimentoCuritiba/2018-10-09_Unidades_Atendimento_Ativas_Curitiba_-_Base_de_Dados.csv', encoding=\"UTF-8\", delimiter=',', error_bad_lines=False)"
   ]
  },
  {
   "cell_type": "code",
   "execution_count": 27,
   "metadata": {},
   "outputs": [
    {
     "data": {
      "text/html": [
       "<div>\n",
       "<style scoped>\n",
       "    .dataframe tbody tr th:only-of-type {\n",
       "        vertical-align: middle;\n",
       "    }\n",
       "\n",
       "    .dataframe tbody tr th {\n",
       "        vertical-align: top;\n",
       "    }\n",
       "\n",
       "    .dataframe thead th {\n",
       "        text-align: right;\n",
       "    }\n",
       "</style>\n",
       "<table border=\"1\" class=\"dataframe\">\n",
       "  <thead>\n",
       "    <tr style=\"text-align: right;\">\n",
       "      <th></th>\n",
       "      <th>CD_EQUI</th>\n",
       "      <th>CD_LOCAL</th>\n",
       "      <th>CD_TEMA</th>\n",
       "      <th>DS_TEMA</th>\n",
       "      <th>CD_TP_EQUIPAMENTO</th>\n",
       "      <th>DS_TP_EQUIPAMENTO</th>\n",
       "      <th>CD_SUBTIPO_EQUIPAMENTO</th>\n",
       "      <th>DS_SUBTIPO_EQUIPAMENTO</th>\n",
       "      <th>CD_DEP_ADMINISTRATIVA</th>\n",
       "      <th>DS_DEP_ADMINISTRATIVA</th>\n",
       "      <th>...</th>\n",
       "      <th>LON_SIRGAS</th>\n",
       "      <th>FUNCIONAMENTO_MANHA_EQUI</th>\n",
       "      <th>FUNCIONAMENTO_TARDE_EQUI</th>\n",
       "      <th>FUNCIONAMENTO_NOITE_EQUI</th>\n",
       "      <th>FUNCIONAMENTO_24HRS_EQUI</th>\n",
       "      <th>TELEFONE_EQUI</th>\n",
       "      <th>RAMAL_EQUI</th>\n",
       "      <th>EMAIL_EQUI</th>\n",
       "      <th>SITE_EQUI</th>\n",
       "      <th>FAX_EQUI</th>\n",
       "    </tr>\n",
       "  </thead>\n",
       "  <tbody>\n",
       "    <tr>\n",
       "      <th>0</th>\n",
       "      <td>4.352</td>\n",
       "      <td></td>\n",
       "      <td>4</td>\n",
       "      <td>PATRIMONIO HISTORICO EDIFICADO</td>\n",
       "      <td>178</td>\n",
       "      <td>Unidade de Interesse Especial de Preservac?o</td>\n",
       "      <td>2</td>\n",
       "      <td>Estilo Art Nouveau</td>\n",
       "      <td>3</td>\n",
       "      <td>Publico Municipal</td>\n",
       "      <td>...</td>\n",
       "      <td>-49</td>\n",
       "      <td>0</td>\n",
       "      <td>0</td>\n",
       "      <td>0</td>\n",
       "      <td>0</td>\n",
       "      <td></td>\n",
       "      <td></td>\n",
       "      <td></td>\n",
       "      <td></td>\n",
       "      <td></td>\n",
       "    </tr>\n",
       "    <tr>\n",
       "      <th>1</th>\n",
       "      <td>4.353</td>\n",
       "      <td></td>\n",
       "      <td>4</td>\n",
       "      <td>PATRIMONIO HISTORICO EDIFICADO</td>\n",
       "      <td>27</td>\n",
       "      <td>Unidade de Interesse de Preservac?o</td>\n",
       "      <td>2</td>\n",
       "      <td>Arquitetura Ecletica</td>\n",
       "      <td>11</td>\n",
       "      <td>Particular</td>\n",
       "      <td>...</td>\n",
       "      <td>-49</td>\n",
       "      <td>0</td>\n",
       "      <td>0</td>\n",
       "      <td>0</td>\n",
       "      <td>0</td>\n",
       "      <td></td>\n",
       "      <td></td>\n",
       "      <td></td>\n",
       "      <td></td>\n",
       "      <td></td>\n",
       "    </tr>\n",
       "    <tr>\n",
       "      <th>2</th>\n",
       "      <td>4.354</td>\n",
       "      <td></td>\n",
       "      <td>4</td>\n",
       "      <td>PATRIMONIO HISTORICO EDIFICADO</td>\n",
       "      <td>27</td>\n",
       "      <td>Unidade de Interesse de Preservac?o</td>\n",
       "      <td>2</td>\n",
       "      <td>Arquitetura Ecletica</td>\n",
       "      <td>11</td>\n",
       "      <td>Particular</td>\n",
       "      <td>...</td>\n",
       "      <td>-49</td>\n",
       "      <td>0</td>\n",
       "      <td>0</td>\n",
       "      <td>0</td>\n",
       "      <td>0</td>\n",
       "      <td></td>\n",
       "      <td></td>\n",
       "      <td></td>\n",
       "      <td></td>\n",
       "      <td></td>\n",
       "    </tr>\n",
       "    <tr>\n",
       "      <th>3</th>\n",
       "      <td>4.355</td>\n",
       "      <td></td>\n",
       "      <td>4</td>\n",
       "      <td>PATRIMONIO HISTORICO EDIFICADO</td>\n",
       "      <td>27</td>\n",
       "      <td>Unidade de Interesse de Preservac?o</td>\n",
       "      <td>2</td>\n",
       "      <td>Arquitetura Ecletica</td>\n",
       "      <td>11</td>\n",
       "      <td>Particular</td>\n",
       "      <td>...</td>\n",
       "      <td>-49</td>\n",
       "      <td>0</td>\n",
       "      <td>0</td>\n",
       "      <td>0</td>\n",
       "      <td>0</td>\n",
       "      <td></td>\n",
       "      <td></td>\n",
       "      <td></td>\n",
       "      <td></td>\n",
       "      <td></td>\n",
       "    </tr>\n",
       "    <tr>\n",
       "      <th>4</th>\n",
       "      <td>4.357</td>\n",
       "      <td></td>\n",
       "      <td>4</td>\n",
       "      <td>PATRIMONIO HISTORICO EDIFICADO</td>\n",
       "      <td>27</td>\n",
       "      <td>Unidade de Interesse de Preservac?o</td>\n",
       "      <td>2</td>\n",
       "      <td>Arquitetura Ecletica</td>\n",
       "      <td>11</td>\n",
       "      <td>Particular</td>\n",
       "      <td>...</td>\n",
       "      <td>-49</td>\n",
       "      <td>0</td>\n",
       "      <td>0</td>\n",
       "      <td>0</td>\n",
       "      <td>0</td>\n",
       "      <td></td>\n",
       "      <td></td>\n",
       "      <td></td>\n",
       "      <td></td>\n",
       "      <td></td>\n",
       "    </tr>\n",
       "  </tbody>\n",
       "</table>\n",
       "<p>5 rows × 36 columns</p>\n",
       "</div>"
      ],
      "text/plain": [
       "   CD_EQUI CD_LOCAL  CD_TEMA                         DS_TEMA  \\\n",
       "0    4.352                 4  PATRIMONIO HISTORICO EDIFICADO   \n",
       "1    4.353                 4  PATRIMONIO HISTORICO EDIFICADO   \n",
       "2    4.354                 4  PATRIMONIO HISTORICO EDIFICADO   \n",
       "3    4.355                 4  PATRIMONIO HISTORICO EDIFICADO   \n",
       "4    4.357                 4  PATRIMONIO HISTORICO EDIFICADO   \n",
       "\n",
       "   CD_TP_EQUIPAMENTO                             DS_TP_EQUIPAMENTO  \\\n",
       "0                178  Unidade de Interesse Especial de Preservac?o   \n",
       "1                 27           Unidade de Interesse de Preservac?o   \n",
       "2                 27           Unidade de Interesse de Preservac?o   \n",
       "3                 27           Unidade de Interesse de Preservac?o   \n",
       "4                 27           Unidade de Interesse de Preservac?o   \n",
       "\n",
       "   CD_SUBTIPO_EQUIPAMENTO DS_SUBTIPO_EQUIPAMENTO  CD_DEP_ADMINISTRATIVA  \\\n",
       "0                       2     Estilo Art Nouveau                      3   \n",
       "1                       2   Arquitetura Ecletica                     11   \n",
       "2                       2   Arquitetura Ecletica                     11   \n",
       "3                       2   Arquitetura Ecletica                     11   \n",
       "4                       2   Arquitetura Ecletica                     11   \n",
       "\n",
       "  DS_DEP_ADMINISTRATIVA   ...    LON_SIRGAS FUNCIONAMENTO_MANHA_EQUI  \\\n",
       "0     Publico Municipal   ...           -49                        0   \n",
       "1            Particular   ...           -49                        0   \n",
       "2            Particular   ...           -49                        0   \n",
       "3            Particular   ...           -49                        0   \n",
       "4            Particular   ...           -49                        0   \n",
       "\n",
       "   FUNCIONAMENTO_TARDE_EQUI FUNCIONAMENTO_NOITE_EQUI FUNCIONAMENTO_24HRS_EQUI  \\\n",
       "0                         0                        0                        0   \n",
       "1                         0                        0                        0   \n",
       "2                         0                        0                        0   \n",
       "3                         0                        0                        0   \n",
       "4                         0                        0                        0   \n",
       "\n",
       "  TELEFONE_EQUI RAMAL_EQUI EMAIL_EQUI SITE_EQUI FAX_EQUI  \n",
       "0                                                         \n",
       "1                                                         \n",
       "2                                                         \n",
       "3                                                         \n",
       "4                                                         \n",
       "\n",
       "[5 rows x 36 columns]"
      ]
     },
     "execution_count": 27,
     "metadata": {},
     "output_type": "execute_result"
    }
   ],
   "source": [
    "test.fillna('').head()"
   ]
  },
  {
   "cell_type": "code",
   "execution_count": null,
   "metadata": {},
   "outputs": [],
   "source": []
  }
 ],
 "metadata": {
  "kernelspec": {
   "display_name": "Python 3",
   "language": "python",
   "name": "python3"
  },
  "language_info": {
   "codemirror_mode": {
    "name": "ipython",
    "version": 3
   },
   "file_extension": ".py",
   "mimetype": "text/x-python",
   "name": "python",
   "nbconvert_exporter": "python",
   "pygments_lexer": "ipython3",
   "version": "3.7.0"
  }
 },
 "nbformat": 4,
 "nbformat_minor": 2
}

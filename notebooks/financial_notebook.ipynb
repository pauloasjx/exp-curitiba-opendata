{
 "cells": [
  {
   "cell_type": "code",
   "execution_count": 1,
   "metadata": {},
   "outputs": [],
   "source": [
    "import pandas as pd\n",
    "import tqdm\n",
    "\n",
    "import re\n",
    "import requests\n",
    "from bs4 import BeautifulSoup\n",
    "\n",
    "import hashlib\n",
    "import datetime"
   ]
  },
  {
   "cell_type": "code",
   "execution_count": 2,
   "metadata": {},
   "outputs": [],
   "source": [
    "base_url = 'http://www.curitiba.pr.gov.br/dadosabertos/consulta'"
   ]
  },
  {
   "cell_type": "code",
   "execution_count": 3,
   "metadata": {},
   "outputs": [],
   "source": [
    "params = {\"grupo\":\"2\"}"
   ]
  },
  {
   "cell_type": "code",
   "execution_count": 4,
   "metadata": {},
   "outputs": [],
   "source": [
    "r = requests.get(base_url, params=params)"
   ]
  },
  {
   "cell_type": "code",
   "execution_count": 5,
   "metadata": {},
   "outputs": [],
   "source": [
    "page = BeautifulSoup(r.text, 'html.parser')"
   ]
  },
  {
   "cell_type": "code",
   "execution_count": 6,
   "metadata": {},
   "outputs": [],
   "source": [
    "__EVENTVALIDATION = page.find(\"input\", {'name': '__EVENTVALIDATION'}).get('value')"
   ]
  },
  {
   "cell_type": "code",
   "execution_count": 7,
   "metadata": {},
   "outputs": [
    {
     "data": {
      "text/plain": [
       "'/wEdAAyR7/BxHIGQUcWKBteuCXEG4mKL5o1QRo/FpCKPmYsWJJ6M545mi+eVxYOsufjJuPs5znhzSWYfXU4ugll/AJGuS7DlCF7QoIFOF8dSWE2wXzkiLQS8NWTPNZDV80Z3AzzphndoyDFnIVED7A3KQw9cs48DT8q4XVH83r8Yw95EbJ8/8wAqn890Z+wGGuGKtYqNvjaF5GeBQ6wPsZcNPGG+vCOATgFUUjl7PbiZupqgZarqqZvleoeig3SW/qIZQc30b5s8YAzVC8Lrkabyd4HTPEeQIQ=='"
      ]
     },
     "execution_count": 7,
     "metadata": {},
     "output_type": "execute_result"
    }
   ],
   "source": [
    "__EVENTVALIDATION"
   ]
  },
  {
   "cell_type": "code",
   "execution_count": 8,
   "metadata": {},
   "outputs": [],
   "source": [
    "__VIEWSTATE = page.find(\"input\", {'name': '__VIEWSTATE'}).get('value')"
   ]
  },
  {
   "cell_type": "code",
   "execution_count": 9,
   "metadata": {},
   "outputs": [
    {
     "data": {
      "text/plain": [
       "'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'"
      ]
     },
     "execution_count": 9,
     "metadata": {},
     "output_type": "execute_result"
    }
   ],
   "source": [
    "__VIEWSTATE"
   ]
  },
  {
   "cell_type": "code",
   "execution_count": 10,
   "metadata": {},
   "outputs": [],
   "source": [
    "pagination = page.find_all(class_='paginacao2')\n",
    "pagination = list(pagination[0].text.replace('\\n', ''))"
   ]
  },
  {
   "cell_type": "code",
   "execution_count": 11,
   "metadata": {},
   "outputs": [],
   "source": [
    "pages = \"\"\n",
    "for page in pagination:\n",
    "    data = {\n",
    "        \"__EVENTTARGET\": f\"ctl00$cphMasterPortal$ucPaginador${page}_pg{page}\",\n",
    "        \"__EVENTVALIDATION\": __EVENTVALIDATION,\n",
    "        \"__VIEWSTATE\": __VIEWSTATE\n",
    "    }\n",
    "    \n",
    "    r = requests.request(\"POST\", base_url, params=params, data=data)\n",
    "    pages = pages + r.text"
   ]
  },
  {
   "cell_type": "code",
   "execution_count": 12,
   "metadata": {},
   "outputs": [],
   "source": [
    "md5 = lambda s : hashlib.md5(s.encode('utf-8')).hexdigest()"
   ]
  },
  {
   "cell_type": "code",
   "execution_count": 13,
   "metadata": {},
   "outputs": [
    {
     "data": {
      "text/plain": [
       "'098f6bcd4621d373cade4e832627b4f6'"
      ]
     },
     "execution_count": 13,
     "metadata": {},
     "output_type": "execute_result"
    }
   ],
   "source": [
    "md5('test')"
   ]
  },
  {
   "cell_type": "code",
   "execution_count": 14,
   "metadata": {},
   "outputs": [],
   "source": [
    "a_tags = BeautifulSoup(pages, 'html.parser').find_all(id='linkArquivo')"
   ]
  },
  {
   "cell_type": "code",
   "execution_count": 15,
   "metadata": {},
   "outputs": [
    {
     "name": "stdout",
     "output_type": "stream",
     "text": [
      "167842ae181d01226901c42b20520afe\n"
     ]
    }
   ],
   "source": [
    "print(md5(a_tags[0].text))"
   ]
  },
  {
   "cell_type": "code",
   "execution_count": 16,
   "metadata": {},
   "outputs": [],
   "source": [
    "date_regex = re.compile('\\d{4}-\\d{2}-\\d{2}')"
   ]
  },
  {
   "cell_type": "code",
   "execution_count": 17,
   "metadata": {},
   "outputs": [
    {
     "data": {
      "text/plain": [
       "datetime.date(2018, 10, 10)"
      ]
     },
     "execution_count": 17,
     "metadata": {},
     "output_type": "execute_result"
    }
   ],
   "source": [
    "date_string = date_regex.search('//multimidia.curitiba.pr.gov.br/dadosabertos/SESPAMedicoUnidadesMunicipaisDeSaude/2018-10-10_Sistema_E-Saude_Medicos_-_Base_de_Dados.csv').group()\n",
    "date = datetime.date(*map(int, date_string.split('-')))\n",
    "date\n"
   ]
  },
  {
   "cell_type": "code",
   "execution_count": 18,
   "metadata": {},
   "outputs": [
    {
     "name": "stderr",
     "output_type": "stream",
     "text": [
      "100%|██████████| 10/10 [00:00<00:00, 14644.92it/s]\n"
     ]
    }
   ],
   "source": [
    "databases = []\n",
    "for a_tag in tqdm.tqdm(a_tags):\n",
    "    database_link = a_tag.get('href')[2:]\n",
    "    \n",
    "    if database_link[-4:] == '.csv':\n",
    "        database_id = md5(a_tag.text)\n",
    "        database_title = a_tag.text\n",
    "\n",
    "        database_date_string = date_regex.search(database_link).group()\n",
    "        database_date = datetime.date(*map(int, database_date_string.split('-')))\n",
    "\n",
    "        database = {\n",
    "            'database_id': database_id,\n",
    "            'database_title': database_title,\n",
    "            'database_link': database_link,\n",
    "            'database_date': database_date\n",
    "        }\n",
    "        \n",
    "        databases.append(database)"
   ]
  },
  {
   "cell_type": "code",
   "execution_count": 19,
   "metadata": {},
   "outputs": [
    {
     "data": {
      "text/plain": [
       "[{'database_id': '91b5d868a8ec96fc18d3d3f0e322a804',\n",
       "  'database_title': 'Alvaras-Dicionario de Dados',\n",
       "  'database_link': 'multimidia.curitiba.pr.gov.br/dadosabertos/BaseAlvaras/2015-05-06_Alvaras-Dicionario_de_Dados.csv',\n",
       "  'database_date': datetime.date(2015, 5, 6)},\n",
       " {'database_id': 'f7e8a635bfa59039b7853027a2956c85',\n",
       "  'database_title': 'Despesas - Base de Dados',\n",
       "  'database_link': 'multimidia.curitiba.pr.gov.br/dadosabertos/BaseReceitaDespesa/2018-10-01_Despesas_-_Base_de_Dados.csv',\n",
       "  'database_date': datetime.date(2018, 10, 1)},\n",
       " {'database_id': 'd9a2b67fd5f1799e443d1971b585f946',\n",
       "  'database_title': 'Receitas - Base de Dados',\n",
       "  'database_link': 'multimidia.curitiba.pr.gov.br/dadosabertos/BaseReceitaDespesa/2018-10-01_Receitas_-_Base_de_Dados.csv',\n",
       "  'database_date': datetime.date(2018, 10, 1)}]"
      ]
     },
     "execution_count": 19,
     "metadata": {},
     "output_type": "execute_result"
    }
   ],
   "source": [
    "databases"
   ]
  },
  {
   "cell_type": "code",
   "execution_count": 26,
   "metadata": {},
   "outputs": [
    {
     "name": "stderr",
     "output_type": "stream",
     "text": [
      "/usr/local/lib/python3.7/site-packages/IPython/core/interactiveshell.py:2785: DtypeWarning: Columns (1,3,5,7,8,9,10,11,12,13,16) have mixed types. Specify dtype option on import or set low_memory=False.\n",
      "  interactivity=interactivity, compiler=compiler, result=result)\n"
     ]
    }
   ],
   "source": [
    "test = pd.read_csv('http://multimidia.curitiba.pr.gov.br/dadosabertos/BaseReceitaDespesa/2018-10-01_Receitas_-_Base_de_Dados.csv', encoding=\"ISO-8859-1\", delimiter=';')"
   ]
  },
  {
   "cell_type": "code",
   "execution_count": 27,
   "metadata": {},
   "outputs": [
    {
     "data": {
      "text/html": [
       "<div>\n",
       "<style scoped>\n",
       "    .dataframe tbody tr th:only-of-type {\n",
       "        vertical-align: middle;\n",
       "    }\n",
       "\n",
       "    .dataframe tbody tr th {\n",
       "        vertical-align: top;\n",
       "    }\n",
       "\n",
       "    .dataframe thead th {\n",
       "        text-align: right;\n",
       "    }\n",
       "</style>\n",
       "<table border=\"1\" class=\"dataframe\">\n",
       "  <thead>\n",
       "    <tr style=\"text-align: right;\">\n",
       "      <th></th>\n",
       "      <th>CD_RECEITA</th>\n",
       "      <th>CD_CATEGORIA</th>\n",
       "      <th>DESCRICAO_CATEGORIA</th>\n",
       "      <th>CD_ORIGEM</th>\n",
       "      <th>DESCRICAO_ORIGEM</th>\n",
       "      <th>CD_ESPECIE</th>\n",
       "      <th>DESCRICAO_ESPECIE</th>\n",
       "      <th>CD_RUBRICA</th>\n",
       "      <th>DESCRICAO_RUBRICA</th>\n",
       "      <th>CD_ALINEA</th>\n",
       "      <th>DESCRICAO_ALINEA</th>\n",
       "      <th>CD_SUBALINEA</th>\n",
       "      <th>DESCRICAO_SUBALINEA</th>\n",
       "      <th>CD_EXERCICIO</th>\n",
       "      <th>DT_APROPRIACAO</th>\n",
       "      <th>TP_RECEITA_ORC</th>\n",
       "      <th>CD_EMPRESA</th>\n",
       "      <th>NM_EMPRESA</th>\n",
       "      <th>VL_RECEITA</th>\n",
       "      <th>DS_FONTE</th>\n",
       "    </tr>\n",
       "  </thead>\n",
       "  <tbody>\n",
       "    <tr>\n",
       "      <th>0</th>\n",
       "      <td>----------</td>\n",
       "      <td>------------</td>\n",
       "      <td>-------------------</td>\n",
       "      <td>---------</td>\n",
       "      <td>----------------</td>\n",
       "      <td>----------</td>\n",
       "      <td>-----------------</td>\n",
       "      <td>----------</td>\n",
       "      <td>-----------------</td>\n",
       "      <td>---------</td>\n",
       "      <td>----------------</td>\n",
       "      <td>------------</td>\n",
       "      <td>-------------------</td>\n",
       "      <td>------------</td>\n",
       "      <td>--------------</td>\n",
       "      <td>--------------</td>\n",
       "      <td>----------</td>\n",
       "      <td>----------</td>\n",
       "      <td>----------</td>\n",
       "      <td>--------</td>\n",
       "    </tr>\n",
       "    <tr>\n",
       "      <th>1</th>\n",
       "      <td>1122011201000000000000</td>\n",
       "      <td>1</td>\n",
       "      <td>RECEITAS CORRENTES</td>\n",
       "      <td>1</td>\n",
       "      <td>IMPOSTOS, TAXAS E CONTRIBUIÇÕES DE MELHORIA</td>\n",
       "      <td>2</td>\n",
       "      <td>TAXAS</td>\n",
       "      <td></td>\n",
       "      <td></td>\n",
       "      <td></td>\n",
       "      <td></td>\n",
       "      <td></td>\n",
       "      <td></td>\n",
       "      <td>2018</td>\n",
       "      <td>2018-08-20</td>\n",
       "      <td>Orçamentária</td>\n",
       "      <td>1</td>\n",
       "      <td>Prefeitura Municipal de Curitiba</td>\n",
       "      <td>946,27</td>\n",
       "      <td>Taxas - Prestação de Serviços</td>\n",
       "    </tr>\n",
       "    <tr>\n",
       "      <th>2</th>\n",
       "      <td>1122011201000000000000</td>\n",
       "      <td>1</td>\n",
       "      <td>RECEITAS CORRENTES</td>\n",
       "      <td>1</td>\n",
       "      <td>IMPOSTOS, TAXAS E CONTRIBUIÇÕES DE MELHORIA</td>\n",
       "      <td>2</td>\n",
       "      <td>TAXAS</td>\n",
       "      <td></td>\n",
       "      <td></td>\n",
       "      <td></td>\n",
       "      <td></td>\n",
       "      <td></td>\n",
       "      <td></td>\n",
       "      <td>2018</td>\n",
       "      <td>2018-08-20</td>\n",
       "      <td>Orçamentária</td>\n",
       "      <td>1</td>\n",
       "      <td>Prefeitura Municipal de Curitiba</td>\n",
       "      <td>1,76</td>\n",
       "      <td>Taxas - Prestação de Serviços</td>\n",
       "    </tr>\n",
       "    <tr>\n",
       "      <th>3</th>\n",
       "      <td>1122011301000000000000</td>\n",
       "      <td>1</td>\n",
       "      <td>RECEITAS CORRENTES</td>\n",
       "      <td>1</td>\n",
       "      <td>IMPOSTOS, TAXAS E CONTRIBUIÇÕES DE MELHORIA</td>\n",
       "      <td>2</td>\n",
       "      <td>TAXAS</td>\n",
       "      <td></td>\n",
       "      <td></td>\n",
       "      <td></td>\n",
       "      <td></td>\n",
       "      <td></td>\n",
       "      <td></td>\n",
       "      <td>2018</td>\n",
       "      <td>2018-08-20</td>\n",
       "      <td>Orçamentária</td>\n",
       "      <td>1</td>\n",
       "      <td>Prefeitura Municipal de Curitiba</td>\n",
       "      <td>78,87</td>\n",
       "      <td>Taxas - Prestação de Serviços</td>\n",
       "    </tr>\n",
       "    <tr>\n",
       "      <th>4</th>\n",
       "      <td>1122011301000000000000</td>\n",
       "      <td>1</td>\n",
       "      <td>RECEITAS CORRENTES</td>\n",
       "      <td>1</td>\n",
       "      <td>IMPOSTOS, TAXAS E CONTRIBUIÇÕES DE MELHORIA</td>\n",
       "      <td>2</td>\n",
       "      <td>TAXAS</td>\n",
       "      <td></td>\n",
       "      <td></td>\n",
       "      <td></td>\n",
       "      <td></td>\n",
       "      <td></td>\n",
       "      <td></td>\n",
       "      <td>2018</td>\n",
       "      <td>2018-08-20</td>\n",
       "      <td>Orçamentária</td>\n",
       "      <td>1</td>\n",
       "      <td>Prefeitura Municipal de Curitiba</td>\n",
       "      <td>93,19</td>\n",
       "      <td>Taxas - Prestação de Serviços</td>\n",
       "    </tr>\n",
       "  </tbody>\n",
       "</table>\n",
       "</div>"
      ],
      "text/plain": [
       "               CD_RECEITA  CD_CATEGORIA  DESCRICAO_CATEGORIA  CD_ORIGEM  \\\n",
       "0              ----------  ------------  -------------------  ---------   \n",
       "1  1122011201000000000000             1   RECEITAS CORRENTES          1   \n",
       "2  1122011201000000000000             1   RECEITAS CORRENTES          1   \n",
       "3  1122011301000000000000             1   RECEITAS CORRENTES          1   \n",
       "4  1122011301000000000000             1   RECEITAS CORRENTES          1   \n",
       "\n",
       "                              DESCRICAO_ORIGEM  CD_ESPECIE  DESCRICAO_ESPECIE  \\\n",
       "0                             ----------------  ----------  -----------------   \n",
       "1  IMPOSTOS, TAXAS E CONTRIBUIÇÕES DE MELHORIA           2              TAXAS   \n",
       "2  IMPOSTOS, TAXAS E CONTRIBUIÇÕES DE MELHORIA           2              TAXAS   \n",
       "3  IMPOSTOS, TAXAS E CONTRIBUIÇÕES DE MELHORIA           2              TAXAS   \n",
       "4  IMPOSTOS, TAXAS E CONTRIBUIÇÕES DE MELHORIA           2              TAXAS   \n",
       "\n",
       "   CD_RUBRICA  DESCRICAO_RUBRICA  CD_ALINEA  DESCRICAO_ALINEA  CD_SUBALINEA  \\\n",
       "0  ----------  -----------------  ---------  ----------------  ------------   \n",
       "1                                                                             \n",
       "2                                                                             \n",
       "3                                                                             \n",
       "4                                                                             \n",
       "\n",
       "   DESCRICAO_SUBALINEA  CD_EXERCICIO  DT_APROPRIACAO  TP_RECEITA_ORC  \\\n",
       "0  -------------------  ------------  --------------  --------------   \n",
       "1                               2018      2018-08-20    Orçamentária   \n",
       "2                               2018      2018-08-20    Orçamentária   \n",
       "3                               2018      2018-08-20    Orçamentária   \n",
       "4                               2018      2018-08-20    Orçamentária   \n",
       "\n",
       "   CD_EMPRESA                        NM_EMPRESA  VL_RECEITA  \\\n",
       "0  ----------                        ----------  ----------   \n",
       "1           1  Prefeitura Municipal de Curitiba      946,27   \n",
       "2           1  Prefeitura Municipal de Curitiba        1,76   \n",
       "3           1  Prefeitura Municipal de Curitiba       78,87   \n",
       "4           1  Prefeitura Municipal de Curitiba       93,19   \n",
       "\n",
       "                        DS_FONTE  \n",
       "0                       --------  \n",
       "1  Taxas - Prestação de Serviços  \n",
       "2  Taxas - Prestação de Serviços  \n",
       "3  Taxas - Prestação de Serviços  \n",
       "4  Taxas - Prestação de Serviços  "
      ]
     },
     "execution_count": 27,
     "metadata": {},
     "output_type": "execute_result"
    }
   ],
   "source": [
    "test.fillna('').head()"
   ]
  },
  {
   "cell_type": "code",
   "execution_count": null,
   "metadata": {},
   "outputs": [],
   "source": []
  }
 ],
 "metadata": {
  "kernelspec": {
   "display_name": "Python 3",
   "language": "python",
   "name": "python3"
  },
  "language_info": {
   "codemirror_mode": {
    "name": "ipython",
    "version": 3
   },
   "file_extension": ".py",
   "mimetype": "text/x-python",
   "name": "python",
   "nbconvert_exporter": "python",
   "pygments_lexer": "ipython3",
   "version": "3.7.0"
  }
 },
 "nbformat": 4,
 "nbformat_minor": 2
}
